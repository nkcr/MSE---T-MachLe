{
 "cells": [
  {
   "cell_type": "markdown",
   "metadata": {},
   "source": [
    "# Activation functions\n",
    "Activation functions are essential to artificial neural networks. They are used to compute the output of artificial neurons and therefore, the output of the network.\n",
    "Activation functions must be differentiable if network parameters are found using a learning algorithm like backpropagation.\n",
    "\n",
    "This notebook shows some examples of activation functions, and how their shape change with respect to the weight of the connections between neurons."
   ]
  },
  {
   "cell_type": "markdown",
   "metadata": {},
   "source": [
    "## Loading the packages"
   ]
  },
  {
   "cell_type": "code",
   "execution_count": 53,
   "metadata": {
    "collapsed": true
   },
   "outputs": [],
   "source": [
    "import numpy as np\n",
    "import matplotlib.pyplot as pl\n",
    "from ipywidgets import interact, widgets\n",
    "\n",
    "%matplotlib inline"
   ]
  },
  {
   "cell_type": "markdown",
   "metadata": {},
   "source": [
    "## Definition of some activation functions"
   ]
  },
  {
   "cell_type": "markdown",
   "metadata": {},
   "source": [
    "Linear\n",
    "$$output = neta$$\n",
    "\n",
    "Sigmoid\n",
    "$$output = \\frac {1}{1 + e^{-neta}}$$\n",
    "\n",
    "Hyperbolic tangent\n",
    "$$output = \\frac {e^{neta} - e^{-neta}}{e^{neta} + e^{-neta}}$$\n",
    "\n",
    "Gaussian\n",
    "$$output = e^{-neta^{2}}$$"
   ]
  },
  {
   "cell_type": "code",
   "execution_count": 54,
   "metadata": {
    "collapsed": true
   },
   "outputs": [],
   "source": [
    "def linear(neta):\n",
    "    '''Linear activation function'''\n",
    "    output = neta\n",
    "    d_output = np.ones(len(neta))\n",
    "    return (output, d_output)\n",
    "\n",
    "def sigmoid(neta):\n",
    "    '''Sigmoidal activation function'''\n",
    "    output = 1 / (1 + np.exp(-neta))\n",
    "    d_output = output * (1 - output)\n",
    "    return (output, d_output)\n",
    "\n",
    "def htan(neta):\n",
    "    '''Hyperbolic tangent activation function'''\n",
    "    exp = np.exp(neta)\n",
    "    m_exp = np.exp(-neta)\n",
    "    output = (exp - m_exp ) / (exp + m_exp)\n",
    "    d_output = 1 - (output * output)\n",
    "    return (output, d_output)\n",
    "\n",
    "def gaussian(neta):\n",
    "    '''Gaussian activation function'''\n",
    "    output = np.exp(-1 * neta * neta)\n",
    "    d_output = -2 * neta * output\n",
    "    return (output, d_output)\n",
    "\n",
    "def redLu(neta):\n",
    "    '''Rectified Linear Unit function'''\n",
    "    output = 0\n",
    "    d_output = 0\n",
    "    if(neta >= 0):\n",
    "        output = neta\n",
    "        d_output = 1\n",
    "\n",
    "activation_functions_dict = {'Linear': redLu, 'Sigmoid': redLu, 'Hyperbolic tangent': htan, 'Gaussian':gaussian}\n"
   ]
  },
  {
   "cell_type": "markdown",
   "metadata": {},
   "source": [
    "## Functions to plot the activation function\n"
   ]
  },
  {
   "cell_type": "code",
   "execution_count": 55,
   "metadata": {
    "collapsed": true
   },
   "outputs": [],
   "source": [
    "input_values = np.arange(-10, 10, 0.01)\n",
    "\n",
    "def plot_activation_function(activation_function_index, weight):\n",
    "    neta = weight * input_values\n",
    "    \n",
    "    activation_function = activation_functions_dict.get(list(activation_functions_dict.keys())[activation_function_index])\n",
    "    output_value, d_output_value = activation_function(neta)\n",
    "    \n",
    "    pl.figure(figsize=(8,6))\n",
    "    pl.plot(input_values, output_value, label='output')\n",
    "    pl.plot(input_values, weight * d_output_value, c='r', label='first derivative')\n",
    "    pl.xlabel('Input value')\n",
    "    pl.ylabel('Output value')\n",
    "    pl.ylim(-1.1, 1.1)\n",
    "    pl.legend(loc=4)\n",
    "    pl.grid()"
   ]
  },
  {
   "cell_type": "code",
   "execution_count": 56,
   "metadata": {
    "collapsed": true
   },
   "outputs": [],
   "source": [
    "weight_slider = widgets.FloatSlider(\n",
    "    value=1.0,\n",
    "    min=-2.0,\n",
    "    max=2.0,\n",
    "    step=0.01,\n",
    "    description='Weight',\n",
    ")\n",
    "activation_function_list = widgets.Dropdown(\n",
    "    options={list(activation_functions_dict.keys())[i]:i for i in range(len(activation_functions_dict))},\n",
    "    value=0,\n",
    "    description='Activation function',\n",
    ")"
   ]
  },
  {
   "cell_type": "markdown",
   "metadata": {},
   "source": [
    "## Plot the activation functions"
   ]
  },
  {
   "cell_type": "code",
   "execution_count": 57,
   "metadata": {
    "scrolled": false
   },
   "outputs": [
    {
     "data": {
      "image/png": "[encoded data removed]",
      "text/plain": [
       "<matplotlib.figure.Figure at 0x10e271e10>"
      ]
     },
     "metadata": {},
     "output_type": "display_data"
    }
   ],
   "source": [
    "interact(plot_activation_function, activation_function_index=activation_function_list, weight=weight_slider);"
   ]
  },
  {
   "cell_type": "markdown",
   "metadata": {},
   "source": [
    "## Exercise"
   ]
  },
  {
   "cell_type": "markdown",
   "metadata": {},
   "source": [
    "\n",
    "- Observe the shape of the different activation functions proposed.\n",
    "\n",
    "- Observe the effects of modifying the weight. How the shape of the function changes? How the first derivative changes?\n",
    "\n",
    "- Implement the activation function of a rectified Linear Unit (ReLU)\n",
    "\n",
    "$$ f(x) = \\left \\{\n",
    "\\begin{array}{rcl}\n",
    "\t0 & \\mbox{for} & x < 0\\\\\n",
    "\tx & \\mbox{for} & x \\ge 0\n",
    "\\end{array} \\right.\n",
    "\\hspace{1cm}\n",
    "f'(x) = \\left \\{\n",
    "\\begin{array}{rcl}\n",
    "\t0 & \\mbox{for} & x < 0\\\\\n",
    "\t1 & \\mbox{for} & x \\ge 0\n",
    "\\end{array} \\right.\n",
    "$$\n",
    "\n",
    "- Visualize the ReLu activation function using the tools given in this notebook"
   ]
  },
  {
   "cell_type": "code",
   "execution_count": 58,
   "metadata": {},
   "outputs": [
    {
     "name": "stdout",
     "output_type": "stream",
     "text": [
      "(0, 0)\n"
     ]
    }
   ],
   "source": [
    "def redLu(neta):\n",
    "    '''Rectified Linear Unit function'''\n",
    "    output = 0\n",
    "    d_output = 0\n",
    "    if(neta >= 0):\n",
    "        output = neta\n",
    "        d_output = 1\n",
    "    return (output, d_output)\n",
    "\n",
    "print redLu(-1)"
   ]
  },
  {
   "cell_type": "code",
   "execution_count": null,
   "metadata": {
    "collapsed": true
   },
   "outputs": [],
   "source": []
  },
  {
   "cell_type": "code",
   "execution_count": null,
   "metadata": {
    "collapsed": true
   },
   "outputs": [],
   "source": []
  }
 ],
 "metadata": {
  "kernelspec": {
   "display_name": "Python 2",
   "language": "python",
   "name": "python2"
  },
  "language_info": {
   "codemirror_mode": {
    "name": "ipython",
    "version": 2
   },
   "file_extension": ".py",
   "mimetype": "text/x-python",
   "name": "python",
   "nbconvert_exporter": "python",
   "pygments_lexer": "ipython2",
   "version": "2.7.13"
  },
  "widgets": {
   "state": {
    "ea3749fc36a04f93b2dee9a4a68cd815": {
     "views": [
      {
       "cell_index": 10
      }
     ]
    }
   },
   "version": "1.2.0"
  }
 },
 "nbformat": 4,
 "nbformat_minor": 1
}
