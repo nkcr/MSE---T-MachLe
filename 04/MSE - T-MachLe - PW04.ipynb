{
 "cells": [
  {
   "cell_type": "markdown",
   "metadata": {
    "collapsed": true
   },
   "source": [
    "### MSE - T-MachLe\n",
    "# PW 04\n",
    "\n",
    "{dorian.magnin, noemien.kocher}@master.hes-so.ch\n",
    "\n",
    "## Exercice 1 Classification system\n",
    "\n",
    "### a. Getting started\n",
    "\n",
    "#### a) + b)"
   ]
  },
  {
   "cell_type": "code",
   "execution_count": 32,
   "metadata": {},
   "outputs": [
    {
     "data": {
      "image/png": "[encoded data removed]",
      "text/plain": [
       "<matplotlib.figure.Figure at 0x1179df5c0>"
      ]
     },
     "metadata": {},
     "output_type": "display_data"
    }
   ],
   "source": [
    "import pandas as pd\n",
    "import numpy as np\n",
    "import matplotlib.pyplot as plt\n",
    "%matplotlib inline\n",
    "from numpy.linalg import inv\n",
    "\n",
    "dataset = pd.read_csv('ex1-data-train.csv',\n",
    "                        header=0,\n",
    "                        names=['x1', 'x2', 'y'])\n",
    "\n",
    "x1 = dataset['x1'].values\n",
    "x2 = dataset['x2'].values\n",
    "y = dataset['y'].values\n",
    "N = len(x1)\n",
    "\n",
    "ones_x1 = [x1[i] for i in range(0, N) if y[i] == 1]\n",
    "ones_x2 = [x2[i] for i in range(0, N) if y[i] == 1]\n",
    "\n",
    "zero_x1 = [x1[i] for i in range(0, N) if y[i] == 0]\n",
    "zero_x2 = [x2[i] for i in range(0, N) if y[i] == 0]\n",
    "\n",
    "plt.scatter(ones_x1, ones_x2, marker=\"o\", label=\"pass\", color=\"green\")\n",
    "plt.scatter(zero_x1, zero_x2, marker=\"x\", label=\"fail\", color=\"red\")\n",
    "plt.legend()\n",
    "plt.title(\"Train dataset\")\n",
    "plt.ylabel(\"exam 1\")\n",
    "plt.xlabel(\"exam 2\")\n",
    "plt.show()"
   ]
  },
  {
   "cell_type": "markdown",
   "metadata": {},
   "source": [
    "#### c)"
   ]
  },
  {
   "cell_type": "code",
   "execution_count": 23,
   "metadata": {},
   "outputs": [],
   "source": [
    "import random\n",
    "\n",
    "def blindTest(x1, x2):\n",
    "    test = random.random()\n",
    "    return 1 if test > 0.5 else 0"
   ]
  },
  {
   "cell_type": "markdown",
   "metadata": {},
   "source": [
    "#### d)\n"
   ]
  },
  {
   "cell_type": "code",
   "execution_count": 34,
   "metadata": {},
   "outputs": [
    {
     "name": "stdout",
     "output_type": "stream",
     "text": [
      "Performance:  0.5050505050505051\n"
     ]
    }
   ],
   "source": [
    "true_guess = 0\n",
    "for i in range(0, len(x1)):\n",
    "    guess = blindTest(x1[i], x2[i])\n",
    "    if guess == y[i]:\n",
    "        true_guess = true_guess + 1\n",
    "\n",
    "print(\"Performance: \", true_guess/N)"
   ]
  },
  {
   "cell_type": "markdown",
   "metadata": {},
   "source": [
    "### b. K-nn classifier"
   ]
  },
  {
   "cell_type": "code",
   "execution_count": 40,
   "metadata": {},
   "outputs": [
    {
     "name": "stdout",
     "output_type": "stream",
     "text": [
      "(array([[  0.        ,   2.50603857,   3.93793144],\n       [  0.        ,   2.86754091,   4.71973464],\n       [  0.        ,   6.71717619,   6.85465894],\n       [  0.        ,   1.49240131,   3.46630319],\n       [  0.        ,   5.69901033,   5.96383333],\n       [  0.        ,   1.00009069,   8.34570571],\n       [  0.        ,   2.20514107,   4.98616248],\n       [  0.        ,   1.80337393,   2.48976997],\n       [  0.        ,   2.35137005,   3.57189022],\n       [  0.        ,   2.8067773 ,   7.41134966],\n       [  0.        ,  10.97244697,  12.4256787 ],\n       [  0.        ,   3.31016518,   3.46630319],\n       [  0.        ,   3.33393707,   4.96396957],\n       [  0.        ,   3.78439942,   4.84239244],\n       [  0.        ,   6.74655536,   6.85465894],\n       [  0.        ,   6.16509171,   6.88109818],\n       [  0.        ,   3.88292029,   5.75583203],\n       [  0.        ,   3.70569522,   4.96396957],\n       [  0.        ,   2.20514107,   4.23077187],\n       [  0.        ,   1.92552359,   3.88292029],\n       [  0.        ,   4.07644308,   4.77215927],\n       [  0.        ,   0.98067959,   2.2414541 ],\n       [  0.        ,   1.74127693,   3.00919025],\n       [  0.        ,   1.65594812,   3.77290734],\n       [  0.        ,   2.98952023,   3.62635151],\n       [  0.        ,   2.9265353 ,   4.23077187],\n       [  0.        ,   2.8067773 ,   5.25931784],\n       [  0.        ,   1.84706225,   7.0860531 ],\n       [  0.        ,   6.05958792,   6.26996863],\n       [  0.        ,   0.96509968,   2.98952023],\n       [  0.        ,   1.67625329,   8.88070608],\n       [  0.        ,   2.37030263,   3.70156972],\n       [  0.        ,   5.57788251,   6.30554685],\n       [  0.        ,   4.71973464,   4.9189177 ],\n       [  0.        ,   4.97145425,   5.29993066],\n       [  0.        ,   3.53408487,   6.67672475],\n       [  0.        ,   2.87966521,   6.35438126],\n       [  0.        ,   4.98616248,   6.30245296],\n       [  0.        ,   2.86754091,   5.41399559],\n       [  0.        ,   1.67625329,   7.93852285],\n       [  0.        ,   1.14816128,   2.2414541 ],\n       [  0.        ,   4.59304476,   4.77215927],\n       [  0.        ,   2.10642137,   3.57189022],\n       [  0.        ,   1.14816128,   3.07618079],\n       [  0.        ,   1.84706225,   6.88109818],\n       [  0.        ,   1.65594812,   3.01175105],\n       [  0.        ,   6.51130296,   7.36457397],\n       [  0.        ,   1.00009069,   7.35313438],\n       [  0.        ,   1.62989558,   6.51130296],\n       [  0.        ,   1.49240131,   3.31016518],\n       [  0.        ,   6.64865989,   7.77649451],\n       [  0.        ,   2.08878981,   4.86746568],\n       [  0.        ,   6.26996863,  11.31961351],\n       [  0.        ,   0.98067959,   2.40717979],\n       [  0.        ,   2.92362618,   4.16779982],\n       [  0.        ,   1.67159698,   4.13109118],\n       [  0.        ,   3.53408487,   8.11483181],\n       [  0.        ,   3.01175105,   3.77290734],\n       [  0.        ,   6.93699388,   7.76860504],\n       [  0.        ,   1.28534879,   1.80337393],\n       [  0.        ,   3.00919025,   4.51212851],\n       [  0.        ,   3.77057418,   5.31010436],\n       [  0.        ,   5.70253167,   5.82598615],\n       [  0.        ,   6.05958792,   6.47250769],\n       [  0.        ,   1.92552359,   5.75583203],\n       [  0.        ,   6.67672475,   8.11483181],\n       [  0.        ,   2.40717979,   3.36203133],\n       [  0.        ,   1.159196  ,   4.82042624],\n       [  0.        ,   5.62716158,   8.57181765],\n       [  0.        ,   1.74127693,   2.50603857],\n       [  0.        ,   2.87966521,   5.63435543],\n       [  0.        ,   3.33393707,   3.70569522],\n       [  0.        ,   0.96509968,   3.20173674],\n       [  0.        ,   3.20173674,   3.96850828],\n       [  0.        ,   3.63025037,   4.13109118],\n       [  0.        ,   5.18730297,   6.74655536],\n       [  0.        ,   6.57156511,   8.38293723],\n       [  0.        ,   5.31010436,   6.26746298],\n       [  0.        ,   2.10642137,   2.35137005],\n       [  0.        ,   4.07644308,   6.96485136],\n       [  0.        ,   4.86746568,   5.00000394],\n       [  0.        ,   5.62716158,   6.06701703],\n       [  0.        ,   5.04921328,   5.74073304],\n       [  0.        ,   1.159196  ,   4.91830518],\n       [  0.        ,   6.07057558,   6.35438126],\n       [  0.        ,   3.78439942,   7.89412554],\n       [  0.        ,   1.13713266,   3.06750348],\n       [  0.        ,   4.82042624,   5.94496886],\n       [  0.        ,   2.37030263,   2.92362618],\n       [  0.        ,   7.47101207,   8.99653156],\n       [  0.        ,   1.62989558,   7.36457397],\n       [  0.        ,   3.77057418,   8.53618319],\n       [  0.        ,   1.28534879,   3.03519247],\n       [  0.        ,   2.08878981,   5.00000394],\n       [  0.        ,   4.85255818,   4.93789993],\n       [  0.        ,   5.18730297,   8.26116465],\n       [  0.        ,   1.67159698,   3.63025037],\n       [  0.        ,   3.70156972,   5.12620636],\n       [  0.        ,   1.13713266,   2.48976997]]), array([[ 0, 69, 22],\n       [ 1, 38, 33],\n       [ 2, 36, 14],\n       [ 3, 49, 11],\n       [ 4, 54, 66],\n       [ 5, 47, 12],\n       [ 6, 18, 37],\n       [ 7, 59, 98],\n       [ 8, 78, 42],\n       [ 9, 26, 51],\n       [10, 37, 42],\n       [11, 49,  3],\n       [12, 71, 17],\n       [13, 85,  1],\n       [14, 75,  2],\n       [15, 16, 44],\n       [16, 19, 64],\n       [17, 71, 12],\n       [18,  6, 25],\n       [19, 64, 16],\n       [20, 79, 41],\n       [21, 53, 40],\n       [22, 69, 60],\n       [23, 45, 57],\n       [24, 29, 72],\n       [25, 78, 18],\n       [26,  9, 51],\n       [27, 44, 16],\n       [28, 63, 52],\n       [29, 72, 24],\n       [30, 39, 94],\n       [31, 88, 97],\n       [32, 97, 31],\n       [33,  1, 13],\n       [34, 53, 21],\n       [35, 56, 65],\n       [36, 70, 84],\n       [37,  6, 25],\n       [38,  1, 13],\n       [39, 30, 94],\n       [40, 43, 21],\n       [41, 55, 20],\n       [42, 78,  8],\n       [43, 40, 21],\n       [44, 27, 15],\n       [45, 23, 57],\n       [46, 48, 90],\n       [47,  5, 12],\n       [48, 90, 46],\n       [49,  3, 11],\n       [50, 41, 96],\n       [51, 93, 80],\n       [52, 28,  4],\n       [53, 21, 66],\n       [54, 88, 31],\n       [55, 96, 74],\n       [56, 35, 65],\n       [57, 45, 23],\n       [58, 92, 70],\n       [59, 92,  7],\n       [60, 22, 69],\n       [61, 91, 77],\n       [62,  0, 60],\n       [63, 28, 33],\n       [64, 19, 16],\n       [65, 35, 56],\n       [66, 53, 21],\n       [67, 83, 87],\n       [68, 81, 15],\n       [69, 22,  0],\n       [70, 36, 73],\n       [71, 12, 17],\n       [72, 29, 73],\n       [73, 72, 29],\n       [74, 96, 55],\n       [75, 95, 14],\n       [76, 32, 73],\n       [77, 61, 64],\n       [78, 42,  8],\n       [79, 20, 41],\n       [80, 51, 93],\n       [81, 68, 24],\n       [82, 88, 97],\n       [83, 67, 86],\n       [84, 92, 36],\n       [85, 13, 33],\n       [86, 98,  7],\n       [87, 67, 83],\n       [88, 31, 54],\n       [89, 74, 79],\n       [90, 48, 46],\n       [91, 61, 77],\n       [92, 59,  7],\n       [93, 51, 80],\n       [94, 25,  8],\n       [95, 75, 85],\n       [96, 55, 74],\n       [97, 31, 88],\n       [98, 86,  7]]))\nN:  99\n"
     ]
    }
   ],
   "source": [
    "from sklearn.neighbors import NearestNeighbors\n",
    "X = []\n",
    "for i in range(0, N):\n",
    "    X.append([x1[i], x2[i]])\n",
    "\n",
    "print(NearestNeighbors(n_neighbors=3, algorithm='ball_tree').fit(X).kneighbors(X))\n",
    "\n",
    "print(\"N: \", N)"
   ]
  },
  {
   "cell_type": "code",
   "execution_count": null,
   "metadata": {},
   "outputs": [],
   "source": []
  }
 ],
 "metadata": {
  "kernelspec": {
   "display_name": "Python 2",
   "language": "python",
   "name": "python2"
  },
  "language_info": {
   "codemirror_mode": {
    "name": "ipython",
    "version": 2
   },
   "file_extension": ".py",
   "mimetype": "text/x-python",
   "name": "python",
   "nbconvert_exporter": "python",
   "pygments_lexer": "ipython2",
   "version": "2.7.6"
  }
 },
 "nbformat": 4,
 "nbformat_minor": 0
}
