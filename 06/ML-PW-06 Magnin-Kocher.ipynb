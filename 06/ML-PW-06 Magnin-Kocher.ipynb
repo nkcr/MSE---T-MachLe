{
 "cells": [
  {
   "cell_type": "markdown",
   "metadata": {
    "collapsed": true
   },
   "source": [
    "### MSE - T-MachLe\n",
    "# PW 06\n",
    "\n",
    "{dorian.magnin, noemien.kocher}@master.hes-so.ch"
   ]
  },
  {
   "cell_type": "markdown",
   "metadata": {},
   "source": [
    "## Exercice 1 Digit classification system using different SVM classifiers\n",
    "\n",
    "### a. Getting the training and test sample sets from the MNIST database\n",
    "\n",
    "#### a) Load MNIST digit dataset. Refer to : http://deeplearning.net/tutorial/gettingstarted.html."
   ]
  },
  {
   "cell_type": "code",
   "execution_count": 3,
   "metadata": {},
   "outputs": [
    {
     "name": "stdout",
     "output_type": "stream",
     "text": [
      "(array([[ 0.,  0.,  0., ...,  0.,  0.,  0.],\n       [ 0.,  0.,  0., ...,  0.,  0.,  0.],\n       [ 0.,  0.,  0., ...,  0.,  0.,  0.],\n       ..., \n       [ 0.,  0.,  0., ...,  0.,  0.,  0.],\n       [ 0.,  0.,  0., ...,  0.,  0.,  0.],\n       [ 0.,  0.,  0., ...,  0.,  0.,  0.]], dtype=float32), array([5, 0, 4, ..., 8, 4, 8]))\n"
     ]
    }
   ],
   "source": [
    "import _pickle as cPickle, gzip, numpy\n",
    "import pandas as pd\n",
    "\n",
    "# Load the dataset\n",
    "train_set, validation_set, test_set = pd.read_pickle(\"data/mnist.pkl.gz\")\n",
    "\n",
    "print(train_set)"
   ]
  },
  {
   "cell_type": "markdown",
   "metadata": {},
   "source": [
    "#### b) Visualize (plot) the image"
   ]
  },
  {
   "cell_type": "code",
   "execution_count": 4,
   "metadata": {
    "collapsed": false
   },
   "outputs": [
    {
     "data": {
      "image/png": "[encoded data removed]",
      "text/plain": [
       "<matplotlib.figure.Figure at 0x116c4e518>"
      ]
     },
     "metadata": {},
     "output_type": "display_data"
    }
   ],
   "source": [
    "import numpy as np\n",
    "import matplotlib.pyplot as plt\n",
    "\n",
    "# The rest of columns are pixels\n",
    "pixels = train_set[0][203]\n",
    "\n",
    "# Make those columns into a array of 8-bits pixels\n",
    "# This array will be of 1D with length 784\n",
    "# The pixel intensity values are integers from 0 to 255\n",
    "pixels = np.array(pixels, dtype='float32')\n",
    "\n",
    "# Reshape the array into 28 x 28 array (2-dimensional array)\n",
    "pixels = pixels.reshape((28, 28))\n",
    "\n",
    "plt.imshow(pixels, cmap='gray_r')\n",
    "plt.show()\n"
   ]
  },
  {
   "cell_type": "markdown",
   "metadata": {
    "collapsed": false
   },
   "source": [
    "#### c) Build the final trainning and test set balanced"
   ]
  },
  {
   "cell_type": "code",
   "execution_count": 5,
   "metadata": {
    "collapsed": false
   },
   "outputs": [
    {
     "name": "stdout",
     "output_type": "stream",
     "text": [
      "Asserts Ok\nAsserts Ok\nNumber per class for training set:  200\nNumber per class for test set:  100\n"
     ]
    }
   ],
   "source": [
    "from collections import defaultdict\n",
    "from numpy import random\n",
    "\n",
    "def getBalabcedIndices(data, max=0):\n",
    "    \n",
    "    smallest_label_count = max\n",
    "    if max == 0: \n",
    "        labels_count = defaultdict(int)\n",
    "        # We find the minimum data items for a class\n",
    "        for i in range(len(data[1])):\n",
    "            label = data[1][i]\n",
    "            labels_count[label] = labels_count[label] + 1\n",
    "        smallest_label_count = labels_count[min(labels_count, key=labels_count.get)]\n",
    "    \n",
    "    indices_dict = defaultdict(list) # to keep trace of selected items\n",
    "    indices = []\n",
    "    \n",
    "    # We won't iterate sequentially so we\n",
    "    # maximise our chances to have sparse data\n",
    "    lis = list(range(len(data[0])))\n",
    "    random.shuffle(lis)\n",
    "    for i in lis:\n",
    "        label = data[1][i]\n",
    "        if len(indices_dict[label]) < smallest_label_count:\n",
    "            indices_dict[label].append(i)\n",
    "            indices.append(i)\n",
    "            \n",
    "    # Quick test        \n",
    "    for i in range(10):\n",
    "        assert len(indices_dict[i]) == smallest_label_count\n",
    "    assert len(indices) == smallest_label_count * 10\n",
    "    print(\"Asserts Ok\")\n",
    "    \n",
    "    return indices, smallest_label_count\n",
    "    \n",
    "train_balanced_indices, n1 = getBalabcedIndices(train_set, 200)\n",
    "test_balanced_indices, n2 = getBalabcedIndices(test_set, 100)\n",
    "\n",
    "print(\"Number per class for training set: \", n1)\n",
    "print(\"Number per class for test set: \", n2)\n",
    "\n",
    "def balancedTrainX():\n",
    "    return [train_set[0][i] for i in train_balanced_indices]\n",
    "\n",
    "\n",
    "def balancedTrainY():\n",
    "    return [train_set[1][i] for i in train_balanced_indices]\n",
    "\n",
    "\n",
    "def balancedTestX():\n",
    "    return [test_set[0][i] for i in test_balanced_indices]\n",
    "\n",
    "\n",
    "def balancedTestY():\n",
    "    return [test_set[1][i] for i in test_balanced_indices]\n",
    "\n",
    "#print(balancedTrainX())\n",
    "#print(train_balanced_indices)"
   ]
  },
  {
   "cell_type": "markdown",
   "metadata": {},
   "source": [
    "### b. Classification of digits based on raw pixel values using SVM and different kernels\n",
    "\n",
    "Create, train and test several SVM classifiers with different kernels (linear, polynomial, RBF,...). For the training, perform a cross-validation using 10 folds, and test different with several C and kernel parameter values (e.g. for γ for RBF kernel) in order to get the best classifier. After the test, display the classification performances and confusion matrix of each SVM classifier (see class metrics):"
   ]
  },
  {
   "cell_type": "code",
   "execution_count": 47,
   "metadata": {
    "collapsed": false
   },
   "outputs": [
    {
     "data": {
      "image/png": "[encoded data removed]",
      "text/plain": [
       "<matplotlib.figure.Figure at 0x11d0ad4e0>"
      ]
     },
     "metadata": {},
     "output_type": "display_data"
    },
    {
     "data": {
      "image/png": "[encoded data removed]",
      "text/plain": [
       "<matplotlib.figure.Figure at 0x113d29f60>"
      ]
     },
     "metadata": {},
     "output_type": "display_data"
    },
    {
     "name": "stdout",
     "output_type": "stream",
     "text": [
      "[[1.0, 1.0, 0.17750000000000002], [1.0, 2.0, 0.1265], [1.0, 3.0, 0.1135], [1.0, 4.0, 0.10900000000000001], [1.0, 5.0, 0.10800000000000001], [2.0, 1.0, 0.1875], [2.0, 2.0, 0.13900000000000001], [2.0, 3.0, 0.125], [2.0, 4.0, 0.11700000000000002], [2.0, 5.0, 0.11650000000000001], [3.0, 1.0, 0.1875], [3.0, 2.0, 0.13900000000000001], [3.0, 3.0, 0.125], [3.0, 4.0, 0.11700000000000002], [3.0, 5.0, 0.11650000000000001], [4.0, 1.0, 0.1875], [4.0, 2.0, 0.13900000000000001], [4.0, 3.0, 0.125], [4.0, 4.0, 0.11700000000000002], [4.0, 5.0, 0.11650000000000001], [5.0, 1.0, 0.1875], [5.0, 2.0, 0.13900000000000001], [5.0, 3.0, 0.125], [5.0, 4.0, 0.11700000000000002], [5.0, 5.0, 0.11650000000000001]]\n"
     ]
    },
    {
     "data": {
      "image/png": "[encoded data removed]",
      "text/plain": [
       "<matplotlib.figure.Figure at 0x11d3e16a0>"
      ]
     },
     "metadata": {},
     "output_type": "display_data"
    },
    {
     "data": {
      "image/png": "[encoded data removed]",
      "text/plain": [
       "<matplotlib.figure.Figure at 0x11d966860>"
      ]
     },
     "metadata": {},
     "output_type": "display_data"
    },
    {
     "data": {
      "text/plain": [
       "'\\nmodels = (svm.SVC(kernel=\\'linear\\', C=C),\\n          svm.LinearSVC(C=C),\\n          svm.SVC(kernel=\\'rbf\\', gamma=0.7, C=C),\\n          svm.SVC(kernel=\\'poly\\', degree=3, C=C))\\n\\nmodels = (clf.fit(balancedTrainX(), balancedTrainY()) for clf in models)\\n\\n\\nfor clf in models:\\n    print(\"Cross val score: \", np.mean(cross_val_score(clf, balancedTestX(), \\n                                               balancedTestY(), \\n                                               cv=fold_size)))\\n'"
      ]
     },
     "execution_count": 47,
     "metadata": {},
     "output_type": "execute_result"
    }
   ],
   "source": [
    "from builtins import range\n",
    "\n",
    "from sklearn import svm, datasets\n",
    "from sklearn.model_selection import cross_val_score\n",
    "from sklearn import metrics\n",
    "\n",
    "from concurrent.futures import ThreadPoolExecutor\n",
    "from concurrent.futures import as_completed\n",
    "import concurrent.futures\n",
    "\n",
    "\n",
    "fold_size = 10\n",
    "\n",
    "C = 1.0  # SVM regularization parameter\n",
    "\n",
    "Cs = np.arange(1, 6, 1, dtype='float')\n",
    "gammas = np.arange(1, 6, 1, dtype='float')\n",
    "degrees = np.arange(1, 6, 1, dtype='int')\n",
    "\n",
    "linear_measures = []\n",
    "linearCVS_measures = []\n",
    "rbf_measures = []\n",
    "poly_measures = []\n",
    "'''\n",
    "for c in Cs:\n",
    "    # linear\n",
    "    model = svm.SVC(kernel='linear', C=c)\n",
    "    model.fit(balancedTrainX(), balancedTrainY())\n",
    "    res = np.mean(cross_val_score(model, balancedTrainX(), \n",
    "                                               balancedTrainY(), \n",
    "                                               cv=fold_size))\n",
    "    linear_measures.append(res)\n",
    "    \n",
    "    # linearCVS\n",
    "    model = svm.LinearSVC(C=C)\n",
    "    model.fit(balancedTrainX(), balancedTrainY())\n",
    "    res = np.mean(cross_val_score(model, balancedTrainX(), \n",
    "                                               balancedTrainY(), \n",
    "                                               cv=fold_size))\n",
    "    linearCVS_measures.append(res)\n",
    "    \n",
    "    # rbf\n",
    "    res = []\n",
    "    for gamma in gammas:\n",
    "        model = svm.SVC(kernel='rbf', gamma=gamma, C=c)\n",
    "        res.append(np.mean(cross_val_score(model, balancedTrainX(), \n",
    "                                               balancedTrainY(), \n",
    "                                               cv=fold_size)))\n",
    "    rbf_measures.append(res)\n",
    "    \n",
    "    # poly\n",
    "    res = []\n",
    "    for degree in degrees:\n",
    "        model = svm.SVC(kernel='poly', degree=degree, C=c)\n",
    "        res.append(np.mean(cross_val_score(model, balancedTrainX(), \n",
    "                                               balancedTrainY(), \n",
    "                                               cv=fold_size)))\n",
    "    poly_measures.append(res)\n",
    "'''    \n",
    "\n",
    "\n",
    "def f1(c):\n",
    "    # linear\n",
    "\n",
    "    model = svm.SVC(kernel='linear', C=c)\n",
    "    model.fit(balancedTrainX(), balancedTrainY())\n",
    "    res = np.mean(cross_val_score(model, balancedTrainX(), \n",
    "                                               balancedTrainY(), \n",
    "                                               cv=fold_size))\n",
    "        \n",
    "    return res\n",
    "\n",
    "\n",
    "def f2(c):\n",
    "    # linearCVS\n",
    "    model = svm.LinearSVC(C=C)\n",
    "    model.fit(balancedTrainX(), balancedTrainY())\n",
    "    res = np.mean(cross_val_score(model, balancedTrainX(), \n",
    "                                               balancedTrainY(), \n",
    "                                               cv=fold_size))\n",
    "    return res\n",
    "    \n",
    "\n",
    "def f3(c):\n",
    "    # rbf\n",
    "    res = []\n",
    "    for gamma in gammas:\n",
    "        model = svm.SVC(kernel='rbf', gamma=gamma, C=c)\n",
    "        score = np.mean(cross_val_score(model, balancedTrainX(), \n",
    "                                               balancedTrainY(), \n",
    "                                               cv=fold_size))\n",
    "        res.append([c, gamma, score])\n",
    "    return res\n",
    "\n",
    "\n",
    "def f4(c):\n",
    "    # poly  \n",
    "    res = []\n",
    "    for degree in degrees:\n",
    "        model = svm.SVC(kernel='poly', degree=degree, C=c)\n",
    "        score = np.mean(cross_val_score(model, balancedTrainX(), \n",
    "                                               balancedTrainY(), \n",
    "                                               cv=fold_size))\n",
    "        res.append([c, degree, score])\n",
    "    return res\n",
    "\n",
    "\n",
    "with concurrent.futures.ProcessPoolExecutor(max_workers=4) as executor:\n",
    "    #future1 = executor.submit(f1)\n",
    "    #future2 = executor.submit(f2)\n",
    "    #future3 = executor.submit(f3)\n",
    "    #future4 = executor.submit(f4)\n",
    "    #linear_measures = future1.result()\n",
    "    #linearCVS_measures = future2.result()\n",
    "    #rbf_measures = future3.result()\n",
    "    #poly_measures = future4.result()\n",
    "    \n",
    "    for c, res in zip(Cs, executor.map(f1, Cs)):\n",
    "        linear_measures.append(res)\n",
    "    \n",
    "    for c, res in zip(Cs, executor.map(f2, Cs)):\n",
    "        linearCVS_measures.append(res)\n",
    "\n",
    "    for c, res in zip(Cs, executor.map(f3, Cs)):\n",
    "        rbf_measures = rbf_measures + res\n",
    "\n",
    "    for c, res in zip(Cs, executor.map(f4, Cs)):\n",
    "        poly_measures = poly_measures + res\n",
    "\n",
    "#print(\"Lin me: \", linear_measures)\n",
    "#print(\"Poly me: \", poly_measures)\n",
    "\n",
    "plt.scatter(Cs, linear_measures)\n",
    "plt.title(\"Linear measures\")\n",
    "plt.xlabel(\"C\")\n",
    "plt.xticks(Cs)\n",
    "plt.ylabel(\"Performance\")\n",
    "plt.show()\n",
    "\n",
    "plt.scatter(Cs, linearCVS_measures)\n",
    "plt.title(\"Linear CVS measures\")\n",
    "plt.xlabel(\"C\")\n",
    "plt.xticks(Cs)\n",
    "plt.ylabel(\"Performance\")\n",
    "plt.show()\n",
    "\n",
    "print(rbf_measures)\n",
    "\n",
    "nm = len(rbf_measures)\n",
    "plt.scatter( [rbf_measures[i][0] for i in range(nm)], [rbf_measures[i][1] for i in range(nm)], c=[rbf_measures[i][2] for i in range(nm)] )\n",
    "plt.gray()\n",
    "plt.title(\"Rbf measures\")\n",
    "plt.xlabel(\"C\")\n",
    "plt.xticks(Cs)\n",
    "plt.ylabel(\"gamma\")\n",
    "plt.yticks(gammas)\n",
    "plt.show()\n",
    "\n",
    "nm = len(poly_measures)\n",
    "plt.scatter( [poly_measures[i][0] for i in range(nm)], [poly_measures[i][1] for i in range(nm)], c=[poly_measures[i][2] for i in range(nm)] )\n",
    "plt.gray()\n",
    "plt.title(\"Poly measures\")\n",
    "plt.xlabel(\"C\")\n",
    "plt.xticks(Cs)\n",
    "plt.ylabel(\"degree\")\n",
    "plt.yticks(degrees)\n",
    "plt.show()\n",
    "\n",
    "'''\n",
    "models = (svm.SVC(kernel='linear', C=C),\n",
    "          svm.LinearSVC(C=C),\n",
    "          svm.SVC(kernel='rbf', gamma=0.7, C=C),\n",
    "          svm.SVC(kernel='poly', degree=3, C=C))\n",
    "\n",
    "models = (clf.fit(balancedTrainX(), balancedTrainY()) for clf in models)\n",
    "\n",
    "\n",
    "for clf in models:\n",
    "    print(\"Cross val score: \", np.mean(cross_val_score(clf, balancedTestX(), \n",
    "                                               balancedTestY(), \n",
    "                                               cv=fold_size)))\n",
    "'''"
   ]
  },
  {
   "cell_type": "markdown",
   "metadata": {
    "collapsed": false
   },
   "source": [
    "### d. Analysis of the results\n",
    "\n",
    "Analyse the results obtained with the best SVM classifier.\n",
    "\n",
    "a) Which kernel and parameters were used ?  \n",
    "b) Which digit classes are the best/worse recognized against which ? Why ?  \n",
    "c) What is the impact of the sizes of the training and test sets on the classification perfor- mance ?"
   ]
  },
  {
   "cell_type": "code",
   "execution_count": null,
   "metadata": {},
   "outputs": [],
   "source": []
  }
 ],
 "metadata": {
  "kernelspec": {
   "display_name": "Python 2",
   "language": "python",
   "name": "python2"
  },
  "language_info": {
   "codemirror_mode": {
    "name": "ipython",
    "version": 2
   },
   "file_extension": ".py",
   "mimetype": "text/x-python",
   "name": "python",
   "nbconvert_exporter": "python",
   "pygments_lexer": "ipython2",
   "version": "2.7.6"
  }
 },
 "nbformat": 4,
 "nbformat_minor": 0
}
