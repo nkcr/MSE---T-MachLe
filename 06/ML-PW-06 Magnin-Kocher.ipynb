{
 "cells": [
  {
   "cell_type": "markdown",
   "metadata": {
    "collapsed": true
   },
   "source": [
    "### MSE - T-MachLe\n",
    "# PW 06\n",
    "\n",
    "{dorian.magnin, noemien.kocher}@master.hes-so.ch"
   ]
  },
  {
   "cell_type": "markdown",
   "metadata": {},
   "source": [
    "## Exercice 1 Digit classification system using different SVM classifiers\n",
    "\n",
    "### a. Getting the training and test sample sets from the MNIST database\n",
    "\n",
    "#### a) Load MNIST digit dataset. Refer to : http://deeplearning.net/tutorial/gettingstarted.html."
   ]
  },
  {
   "cell_type": "code",
   "execution_count": 3,
   "metadata": {},
   "outputs": [
    {
     "name": "stdout",
     "output_type": "stream",
     "text": [
      "(array([[ 0.,  0.,  0., ...,  0.,  0.,  0.],\n       [ 0.,  0.,  0., ...,  0.,  0.,  0.],\n       [ 0.,  0.,  0., ...,  0.,  0.,  0.],\n       ..., \n       [ 0.,  0.,  0., ...,  0.,  0.,  0.],\n       [ 0.,  0.,  0., ...,  0.,  0.,  0.],\n       [ 0.,  0.,  0., ...,  0.,  0.,  0.]], dtype=float32), array([5, 0, 4, ..., 8, 4, 8]))\n"
     ]
    }
   ],
   "source": [
    "import _pickle as cPickle, gzip, numpy\n",
    "import pandas as pd\n",
    "\n",
    "# Load the dataset\n",
    "train_set, validation_set, test_set = pd.read_pickle(\"data/mnist.pkl.gz\")\n",
    "\n",
    "print(train_set)"
   ]
  },
  {
   "cell_type": "markdown",
   "metadata": {},
   "source": [
    "#### b) Visualize (plot) the image"
   ]
  },
  {
   "cell_type": "code",
   "execution_count": 4,
   "metadata": {
    "collapsed": false
   },
   "outputs": [
    {
     "data": {
      "image/png": "[encoded data removed]",
      "text/plain": [
       "<matplotlib.figure.Figure at 0x116c4e518>"
      ]
     },
     "metadata": {},
     "output_type": "display_data"
    }
   ],
   "source": [
    "import numpy as np\n",
    "import matplotlib.pyplot as plt\n",
    "\n",
    "# The rest of columns are pixels\n",
    "pixels = train_set[0][203]\n",
    "\n",
    "# Make those columns into a array of 8-bits pixels\n",
    "# This array will be of 1D with length 784\n",
    "# The pixel intensity values are integers from 0 to 255\n",
    "pixels = np.array(pixels, dtype='float32')\n",
    "\n",
    "# Reshape the array into 28 x 28 array (2-dimensional array)\n",
    "pixels = pixels.reshape((28, 28))\n",
    "\n",
    "plt.imshow(pixels, cmap='gray_r')\n",
    "plt.show()\n"
   ]
  },
  {
   "cell_type": "markdown",
   "metadata": {
    "collapsed": false
   },
   "source": [
    "#### c) Build the final trainning and test set balanced"
   ]
  },
  {
   "cell_type": "code",
   "execution_count": 5,
   "metadata": {
    "collapsed": false
   },
   "outputs": [
    {
     "name": "stdout",
     "output_type": "stream",
     "text": [
      "Asserts Ok\nAsserts Ok\nNumber per class for training set:  200\nNumber per class for test set:  100\n"
     ]
    }
   ],
   "source": [
    "from collections import defaultdict\n",
    "from numpy import random\n",
    "\n",
    "def getBalabcedIndices(data, max=0):\n",
    "    \n",
    "    smallest_label_count = max\n",
    "    if max == 0: \n",
    "        labels_count = defaultdict(int)\n",
    "        # We find the minimum data items for a class\n",
    "        for i in range(len(data[1])):\n",
    "            label = data[1][i]\n",
    "            labels_count[label] = labels_count[label] + 1\n",
    "        smallest_label_count = labels_count[min(labels_count, key=labels_count.get)]\n",
    "    \n",
    "    indices_dict = defaultdict(list) # to keep trace of selected items\n",
    "    indices = []\n",
    "    \n",
    "    # We won't iterate sequentially so we\n",
    "    # maximise our chances to have sparse data\n",
    "    lis = list(range(len(data[0])))\n",
    "    random.shuffle(lis)\n",
    "    for i in lis:\n",
    "        label = data[1][i]\n",
    "        if len(indices_dict[label]) < smallest_label_count:\n",
    "            indices_dict[label].append(i)\n",
    "            indices.append(i)\n",
    "            \n",
    "    # Quick test        \n",
    "    for i in range(10):\n",
    "        assert len(indices_dict[i]) == smallest_label_count\n",
    "    assert len(indices) == smallest_label_count * 10\n",
    "    print(\"Asserts Ok\")\n",
    "    \n",
    "    return indices, smallest_label_count\n",
    "    \n",
    "train_balanced_indices, n1 = getBalabcedIndices(train_set, 200)\n",
    "test_balanced_indices, n2 = getBalabcedIndices(test_set, 100)\n",
    "\n",
    "print(\"Number per class for training set: \", n1)\n",
    "print(\"Number per class for test set: \", n2)\n",
    "\n",
    "def balancedTrainX():\n",
    "    return [train_set[0][i] for i in train_balanced_indices]\n",
    "\n",
    "\n",
    "def balancedTrainY():\n",
    "    return [train_set[1][i] for i in train_balanced_indices]\n",
    "\n",
    "\n",
    "def balancedTestX():\n",
    "    return [test_set[0][i] for i in test_balanced_indices]\n",
    "\n",
    "\n",
    "def balancedTestY():\n",
    "    return [test_set[1][i] for i in test_balanced_indices]\n",
    "\n",
    "#print(balancedTrainX())\n",
    "#print(train_balanced_indices)"
   ]
  },
  {
   "cell_type": "markdown",
   "metadata": {},
   "source": [
    "### b. Classification of digits based on raw pixel values using SVM and different kernels\n",
    "\n",
    "Create, train and test several SVM classifiers with different kernels (linear, polynomial, RBF,...). For the training, perform a cross-validation using 10 folds, and test different with several C and kernel parameter values (e.g. for γ for RBF kernel) in order to get the best classifier. After the test, display the classification performances and confusion matrix of each SVM classifier (see class metrics):"
   ]
  },
  {
   "cell_type": "code",
   "execution_count": 54,
   "metadata": {
    "collapsed": false
   },
   "outputs": [
    {
     "data": {
      "image/png": "[encoded data removed]",
      "text/plain": [
       "<matplotlib.figure.Figure at 0x11d382c18>"
      ]
     },
     "metadata": {},
     "output_type": "display_data"
    },
    {
     "data": {
      "image/png": "[encoded data removed]",
      "text/plain": [
       "<matplotlib.figure.Figure at 0x11d25b4a8>"
      ]
     },
     "metadata": {},
     "output_type": "display_data"
    },
    {
     "data": {
      "image/png": "[encoded data removed]",
      "text/plain": [
       "<matplotlib.figure.Figure at 0x11cb292e8>"
      ]
     },
     "metadata": {},
     "output_type": "display_data"
    },
    {
     "data": {
      "image/png": "[encoded data removed]",
      "text/plain": [
       "<matplotlib.figure.Figure at 0x11d275550>"
      ]
     },
     "metadata": {},
     "output_type": "display_data"
    },
    {
     "data": {
      "text/plain": [
       "'\\nmodels = (svm.SVC(kernel=\\'linear\\', C=C),\\n          svm.LinearSVC(C=C),\\n          svm.SVC(kernel=\\'rbf\\', gamma=0.7, C=C),\\n          svm.SVC(kernel=\\'poly\\', degree=3, C=C))\\n\\nmodels = (clf.fit(balancedTrainX(), balancedTrainY()) for clf in models)\\n\\n\\nfor clf in models:\\n    print(\"Cross val score: \", np.mean(cross_val_score(clf, balancedTestX(), \\n                                               balancedTestY(), \\n                                               cv=fold_size)))\\n'"
      ]
     },
     "execution_count": 54,
     "metadata": {},
     "output_type": "execute_result"
    }
   ],
   "source": [
    "from builtins import range\n",
    "\n",
    "from sklearn import svm, datasets\n",
    "from sklearn.model_selection import cross_val_score\n",
    "from sklearn import metrics\n",
    "\n",
    "from concurrent.futures import ThreadPoolExecutor\n",
    "from concurrent.futures import as_completed\n",
    "import concurrent.futures\n",
    "\n",
    "\n",
    "fold_size = 10\n",
    "\n",
    "C = 1.0  # SVM regularization parameter\n",
    "\n",
    "#Cs = np.arange(1, 6, 1, dtype='float')\n",
    "Cs = [0.1, 1, 10, 100]\n",
    "#gammas = np.arange(1, 6, 1, dtype='float')\n",
    "gammas = [0.001, 0.01, 0.1, 1, 10, 100]\n",
    "#degrees = np.arange(1, 6, 1, dtype='int')\n",
    "degrees = [1, 2, 3, 4, 5]\n",
    "\n",
    "linear_measures = []\n",
    "linearCVS_measures = []\n",
    "rbf_measures = []\n",
    "poly_measures = []\n",
    "'''\n",
    "for c in Cs:\n",
    "    # linear\n",
    "    model = svm.SVC(kernel='linear', C=c)\n",
    "    model.fit(balancedTrainX(), balancedTrainY())\n",
    "    res = np.mean(cross_val_score(model, balancedTrainX(), \n",
    "                                               balancedTrainY(), \n",
    "                                               cv=fold_size))\n",
    "    linear_measures.append(res)\n",
    "    \n",
    "    # linearCVS\n",
    "    model = svm.LinearSVC(C=C)\n",
    "    model.fit(balancedTrainX(), balancedTrainY())\n",
    "    res = np.mean(cross_val_score(model, balancedTrainX(), \n",
    "                                               balancedTrainY(), \n",
    "                                               cv=fold_size))\n",
    "    linearCVS_measures.append(res)\n",
    "    \n",
    "    # rbf\n",
    "    res = []\n",
    "    for gamma in gammas:\n",
    "        model = svm.SVC(kernel='rbf', gamma=gamma, C=c)\n",
    "        res.append(np.mean(cross_val_score(model, balancedTrainX(), \n",
    "                                               balancedTrainY(), \n",
    "                                               cv=fold_size)))\n",
    "    rbf_measures.append(res)\n",
    "    \n",
    "    # poly\n",
    "    res = []\n",
    "    for degree in degrees:\n",
    "        model = svm.SVC(kernel='poly', degree=degree, C=c)\n",
    "        res.append(np.mean(cross_val_score(model, balancedTrainX(), \n",
    "                                               balancedTrainY(), \n",
    "                                               cv=fold_size)))\n",
    "    poly_measures.append(res)\n",
    "'''    \n",
    "\n",
    "\n",
    "def f1(c):\n",
    "    # linear\n",
    "\n",
    "    model = svm.SVC(kernel='linear', C=c)\n",
    "    model.fit(balancedTrainX(), balancedTrainY())\n",
    "    res = np.mean(cross_val_score(model, balancedTrainX(), \n",
    "                                               balancedTrainY(), \n",
    "                                               cv=fold_size))\n",
    "        \n",
    "    return res\n",
    "\n",
    "\n",
    "def f2(c):\n",
    "    # linearCVS\n",
    "    model = svm.LinearSVC(C=c)\n",
    "    model.fit(balancedTrainX(), balancedTrainY())\n",
    "    res = np.mean(cross_val_score(model, balancedTrainX(), \n",
    "                                               balancedTrainY(), \n",
    "                                               cv=fold_size))\n",
    "    return res\n",
    "    \n",
    "\n",
    "def f3(c):\n",
    "    # rbf\n",
    "    res = []\n",
    "    for gamma in gammas:\n",
    "        model = svm.SVC(kernel='rbf', gamma=gamma, C=c)\n",
    "        score = np.mean(cross_val_score(model, balancedTrainX(), \n",
    "                                               balancedTrainY(), \n",
    "                                               cv=fold_size))\n",
    "        res.append([c, gamma, score])\n",
    "    return res\n",
    "\n",
    "\n",
    "def f4(c):\n",
    "    # poly  \n",
    "    res = []\n",
    "    for degree in degrees:\n",
    "        model = svm.SVC(kernel='poly', degree=degree, C=c)\n",
    "        score = np.mean(cross_val_score(model, balancedTrainX(), \n",
    "                                               balancedTrainY(), \n",
    "                                               cv=fold_size))\n",
    "        res.append([c, degree, score])\n",
    "    return res\n",
    "\n",
    "\n",
    "with concurrent.futures.ProcessPoolExecutor(max_workers=4) as executor:\n",
    "    #future1 = executor.submit(f1)\n",
    "    #future2 = executor.submit(f2)\n",
    "    #future3 = executor.submit(f3)\n",
    "    #future4 = executor.submit(f4)\n",
    "    #linear_measures = future1.result()\n",
    "    #linearCVS_measures = future2.result()\n",
    "    #rbf_measures = future3.result()\n",
    "    #poly_measures = future4.result()\n",
    "    \n",
    "    for c, res in zip(Cs, executor.map(f1, Cs)):\n",
    "        linear_measures.append([c, res])\n",
    "    \n",
    "    for c, res in zip(Cs, executor.map(f2, Cs)):\n",
    "        linearCVS_measures.append([c, res])\n",
    "\n",
    "    for c, res in zip(Cs, executor.map(f3, Cs)):\n",
    "        rbf_measures = rbf_measures + res\n",
    "\n",
    "    for c, res in zip(Cs, executor.map(f4, Cs)):\n",
    "        poly_measures = poly_measures + res\n",
    "\n",
    "#print(\"Lin me: \", linear_measures)\n",
    "#print(\"Poly me: \", poly_measures)\n",
    "\n",
    "nm = len(linear_measures)\n",
    "plt.scatter([linear_measures[i][0] for i in range(nm)], [linear_measures[i][1] for i in range(nm)])\n",
    "plt.title(\"Linear measures\")\n",
    "plt.xlabel(\"C\")\n",
    "plt.xticks(Cs)\n",
    "plt.ylabel(\"Performance\")\n",
    "plt.show()\n",
    "\n",
    "nm = len(linearCVS_measures)\n",
    "plt.scatter([linearCVS_measures[i][0] for i in range(nm)], [linearCVS_measures[i][0] for i in range(nm)])\n",
    "plt.title(\"Linear CVS measures\")\n",
    "plt.xlabel(\"C\")\n",
    "plt.xticks(Cs)\n",
    "plt.ylabel(\"Performance\")\n",
    "plt.show()\n",
    "\n",
    "#print(rbf_measures)\n",
    "\n",
    "nm = len(rbf_measures)\n",
    "plt.scatter( [rbf_measures[i][0] for i in range(nm)], [rbf_measures[i][1] for i in range(nm)], \n",
    "             c=[rbf_measures[i][2] for i in range(nm)], cmap='viridis' )\n",
    "plt.title(\"Rbf measures\")\n",
    "plt.xlabel(\"C\")\n",
    "plt.xticks(Cs)\n",
    "plt.ylabel(\"gamma\")\n",
    "plt.yticks(gammas)\n",
    "plt.colorbar()\n",
    "plt.show()\n",
    "\n",
    "\n",
    "nm = len(poly_measures)\n",
    "plt.scatter( [poly_measures[i][0] for i in range(nm)], [poly_measures[i][1] for i in range(nm)], \n",
    "             c=[poly_measures[i][2] for i in range(nm)], cmap='viridis' )\n",
    "plt.title(\"Poly measures\")\n",
    "plt.xlabel(\"C\")\n",
    "plt.xticks(Cs)\n",
    "plt.ylabel(\"degree\")\n",
    "plt.yticks(degrees)\n",
    "plt.colorbar()\n",
    "plt.show()\n",
    "\n",
    "'''\n",
    "models = (svm.SVC(kernel='linear', C=C),\n",
    "          svm.LinearSVC(C=C),\n",
    "          svm.SVC(kernel='rbf', gamma=0.7, C=C),\n",
    "          svm.SVC(kernel='poly', degree=3, C=C))\n",
    "\n",
    "models = (clf.fit(balancedTrainX(), balancedTrainY()) for clf in models)\n",
    "\n",
    "\n",
    "for clf in models:\n",
    "    print(\"Cross val score: \", np.mean(cross_val_score(clf, balancedTestX(), \n",
    "                                               balancedTestY(), \n",
    "                                               cv=fold_size)))\n",
    "'''"
   ]
  },
  {
   "cell_type": "markdown",
   "metadata": {},
   "source": [
    "J'ai dû me résoudre à prendre des intervals de test restreinds à cause du temps de calcul, et ce malgré une implémentation multi-process.\n",
    "\n",
    "Mes graphiques pourraient être améliorés, mais c'est dur de faire plusieurs changements quand ça demande plus d'une heure de rendu à chaque fois.\n",
    "\n",
    "Basé sur les résultats, je prendrais les valeurs suivantes:\n",
    "\n",
    "* linear: c = 0.1\n",
    "* linear CSV: c = 100\n",
    "* rbf: C = 1, gamma = 0.001\n",
    "* Poly: C = 10, degree = 1"
   ]
  },
  {
   "cell_type": "code",
   "execution_count": 60,
   "metadata": {},
   "outputs": [
    {
     "name": "stdout",
     "output_type": "stream",
     "text": [
      "linear:\nscore:  0.91\ncf:\n [[ 97   0   0   0   0   1   1   1   0   0]\n [  0 100   0   0   0   0   0   0   0   0]\n [  0   0  85   3   2   0   5   1   4   0]\n [  0   1   2  96   0   1   0   0   0   0]\n [  0   0   1   0  95   0   0   2   0   2]\n [  1   2   1   5   1  84   2   0   3   1]\n [  3   0   2   0   0   2  93   0   0   0]\n [  0   2   1   0   0   0   0  93   2   2]\n [  0   4   1   1   2   5   3   1  83   0]\n [  2   0   0   1   7   0   0   3   3  84]]\n"
     ]
    },
    {
     "name": "stdout",
     "output_type": "stream",
     "text": [
      "SVC:\nscore:  0.838\ncf:\n [[98  0  0  1  0  0  0  1  0  0]\n [ 0 98  0  1  0  0  1  0  0  0]\n [ 1  3 68  8  2  3  5  0  8  2]\n [ 1  2  3 83  1  4  0  0  3  3]\n [ 0  0  0  0 89  2  1  0  2  6]\n [ 1  1  1  6  1 76  2  1 10  1]\n [ 1  0  1  1  1  2 93  1  0  0]\n [ 0  0  1  1  0  0  0 89  2  7]\n [ 1  4  3  3  1  8  5  0 73  2]\n [ 2  1  1  2 10  1  0  7  5 71]]\n"
     ]
    },
    {
     "name": "stdout",
     "output_type": "stream",
     "text": [
      "RBF:\nscore:  0.89\ncf:\n [[ 97   0   0   0   0   2   0   1   0   0]\n [  0 100   0   0   0   0   0   0   0   0]\n [  1   0  77   3   2   1   6   1   8   1]\n [  0   2   2  84   0   5   0   1   6   0]\n [  0   0   1   0  92   0   0   0   0   7]\n [  0   2   1   3   2  87   2   0   2   1]\n [  1   2   1   0   1   1  94   0   0   0]\n [  0   3   1   0   0   0   0  92   2   2]\n [  1   2   1   1   1   7   3   0  83   1]\n [  1   0   0   2   7   0   1   3   2  84]]\n"
     ]
    },
    {
     "name": "stdout",
     "output_type": "stream",
     "text": [
      "Poly:\nscore:  0.906\ncf:\n [[ 98   0   0   0   0   1   0   1   0   0]\n [  0 100   0   0   0   0   0   0   0   0]\n [  1   0  79   3   2   0   6   1   8   0]\n [  0   1   2  92   0   3   0   0   2   0]\n [  0   0   1   0  96   0   0   1   0   2]\n [  0   2   1   5   1  86   3   0   2   0]\n [  3   0   2   0   2   2  91   0   0   0]\n [  0   3   1   0   0   0   0  93   2   1]\n [  0   2   0   1   1   4   4   1  87   0]\n [  2   0   0   2   8   0   0   2   2  84]]\n"
     ]
    }
   ],
   "source": [
    "from sklearn.metrics import confusion_matrix\n",
    "\n",
    "# Linear\n",
    "c = 0.1\n",
    "\n",
    "model = svm.SVC(kernel='linear', C=c)\n",
    "model.fit(balancedTrainX(), balancedTrainY())\n",
    "\n",
    "y_true = balancedTestY()\n",
    "\n",
    "y_pred = model.predict(balancedTestX())\n",
    "\n",
    "conf_mat = confusion_matrix(y_true, y_pred)\n",
    "\n",
    "score = model.score(balancedTestX(), balancedTestY())\n",
    "\n",
    "print(\"linear:\")\n",
    "print(\"score: \", score)\n",
    "print(\"cf:\\n\", conf_mat)\n",
    "\n",
    "# Linear SVC\n",
    "c = 100\n",
    "\n",
    "model = svm.LinearSVC(C=c)\n",
    "model.fit(balancedTrainX(), balancedTrainY())\n",
    "\n",
    "y_true = balancedTestY()\n",
    "\n",
    "y_pred = model.predict(balancedTestX())\n",
    "\n",
    "conf_mat = confusion_matrix(y_true, y_pred)\n",
    "\n",
    "score = model.score(balancedTestX(), balancedTestY())\n",
    "\n",
    "print(\"SVC:\")\n",
    "print(\"score: \", score)\n",
    "print(\"cf:\\n\", conf_mat)\n",
    "\n",
    "# RBF\n",
    "c = 1\n",
    "gamma = 0.001\n",
    "\n",
    "model = svm.SVC(kernel='rbf', gamma=gamma, C=c)\n",
    "model.fit(balancedTrainX(), balancedTrainY())\n",
    "\n",
    "y_true = balancedTestY()\n",
    "\n",
    "y_pred = model.predict(balancedTestX())\n",
    "\n",
    "conf_mat = confusion_matrix(y_true, y_pred)\n",
    "\n",
    "score = model.score(balancedTestX(), balancedTestY())\n",
    "\n",
    "print(\"RBF:\")\n",
    "print(\"score: \", score)\n",
    "print(\"cf:\\n\", conf_mat)\n",
    "\n",
    "\n",
    "# Poly\n",
    "c = 10\n",
    "degree = 1\n",
    "\n",
    "model = svm.SVC(kernel='poly', degree=degree, C=c)\n",
    "model.fit(balancedTrainX(), balancedTrainY())\n",
    "\n",
    "y_true = balancedTestY()\n",
    "\n",
    "y_pred = model.predict(balancedTestX())\n",
    "\n",
    "conf_mat = confusion_matrix(y_true, y_pred)\n",
    "\n",
    "score = model.score(balancedTestX(), balancedTestY())\n",
    "\n",
    "print(\"Poly:\")\n",
    "print(\"score: \", score)\n",
    "print(\"cf:\\n\", conf_mat)"
   ]
  },
  {
   "cell_type": "markdown",
   "metadata": {
    "collapsed": false
   },
   "source": [
    "### d. Analysis of the results\n",
    "\n",
    "Analyse the results obtained with the best SVM classifier.\n",
    "\n",
    "a) Which kernel and parameters were used ?  \n",
    "\n",
    "* linear: c = 0.1\n",
    "* linear CSV: c = 100\n",
    "* rbf: C = 1, gamma = 0.001\n",
    "* Poly: C = 10, degree = 1\n",
    "\n",
    "b) Which digit classes are the best/worse recognized against which ? Why ? \n",
    "\n",
    "Le chiffre deux (2) est le moins bien reconnu, il est souvent confondu avec le 8. Et ça peut se comprendre car le 8 à la même courbe que le 2 mais en plus complet. Et le un (1) est celui qui est le mieux reconnu.\n",
    " \n",
    "c) What is the impact of the sizes of the training and test sets on the classification perfor- mance ?\n",
    "\n",
    "Pour nous, le plus grand impact est le temps de clacul... Sinon il faut que le training set soit assez grand par rapport au nombre de features pour permettre un apprentissage pertinent."
   ]
  }
 ],
 "metadata": {
  "kernelspec": {
   "display_name": "Python 2",
   "language": "python",
   "name": "python2"
  },
  "language_info": {
   "codemirror_mode": {
    "name": "ipython",
    "version": 2
   },
   "file_extension": ".py",
   "mimetype": "text/x-python",
   "name": "python",
   "nbconvert_exporter": "python",
   "pygments_lexer": "ipython2",
   "version": "2.7.6"
  }
 },
 "nbformat": 4,
 "nbformat_minor": 0
}
