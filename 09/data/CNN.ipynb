{
 "cells": [
  {
   "cell_type": "markdown",
   "metadata": {},
   "source": [
    "# Convolutional Neural Networks\n",
    "This notebook will guide you through the use of the `keras` package to train convolutional neural networks for handwritten digits classification. You are going to use the `mnist` dataset from LeCun et al. 1998."
   ]
  },
  {
   "cell_type": "markdown",
   "metadata": {},
   "source": [
    "## Loading the packages"
   ]
  },
  {
   "cell_type": "code",
   "execution_count": 1,
   "metadata": {},
   "outputs": [
    {
     "name": "stderr",
     "output_type": "stream",
     "text": [
      "Using TensorFlow backend.\n"
     ]
    }
   ],
   "source": [
    "import numpy as np\n",
    "from matplotlib import pyplot as pl\n",
    "\n",
    "from keras.datasets import mnist\n",
    "from keras.models import Model\n",
    "from keras.layers.core import Dense, Dropout, Flatten\n",
    "from keras.optimizers import RMSprop\n",
    "from keras.utils import np_utils\n",
    "from keras.layers.convolutional import Convolution2D, MaxPooling2D\n",
    "from keras.layers import Input\n",
    "from sklearn import metrics as me\n",
    "from scipy import stats\n",
    "\n",
    "%matplotlib inline"
   ]
  },
  {
   "cell_type": "markdown",
   "metadata": {},
   "source": [
    "First, create some useful functions"
   ]
  },
  {
   "cell_type": "code",
   "execution_count": 2,
   "metadata": {},
   "outputs": [],
   "source": [
    "def build_grid_of_images(array):\n",
    "    assert len(array.shape) == 3\n",
    "    dim_0 = np.sqrt(array.shape[0])\n",
    "    assert dim_0.is_integer()\n",
    "    \n",
    "    temp_out = np.reshape(array, (dim_0, dim_0, array.shape[1], array.shape[2]))\n",
    "    temp_out = np.rollaxis(temp_out, 1, 3)\n",
    "    return np.reshape(temp_out, (dim_0*array.shape[1], dim_0*array.shape[2]))\n",
    "\n",
    "#a = np.array(np.arange(36))\n",
    "#print a\n",
    "\n",
    "#b = np.reshape(a, (4,3,3))\n",
    "#print b[0,:,:]\n",
    "#print b[1,:,:]\n",
    "\n",
    "#c = build_grid_of_images(b)\n",
    "#print c\n",
    "\n",
    "def plot_conv_layer_output(temp_out, title):\n",
    "    temp_to_plot = build_grid_of_images(temp_out)\n",
    "    pl.imshow(temp_to_plot, interpolation='nearest', cmap=pl.get_cmap('Greys'))\n",
    "    ax = pl.gca()\n",
    "    ax.set_xticks(np.arange(-0.5, temp_to_plot.shape[0]+0.5, temp_out.shape[1]))    \n",
    "    ax.set_yticks(np.arange(-0.5, temp_to_plot.shape[0]+0.5, temp_out.shape[2]))\n",
    "    pl.grid()\n",
    "    pl.tick_params(axis='both', which='both', bottom='off', top='off', left='off', right='off', labelbottom='off', labelleft='off')\n",
    "    pl.title(title)\n",
    "\n",
    "def plot_dense_layer_output(temp_out, title):\n",
    "    pl.bar(np.arange(temp_out.shape[1])-0.4, temp_out[0,:])\n",
    "    pl.xlim(-0.5, temp_out.shape[1])\n",
    "    pl.grid()\n",
    "    pl.title(title)"
   ]
  },
  {
   "cell_type": "markdown",
   "metadata": {},
   "source": [
    "Load the `mnist` dataset and normalize in the range [0, 1]"
   ]
  },
  {
   "cell_type": "code",
   "execution_count": 3,
   "metadata": {},
   "outputs": [
    {
     "name": "stdout",
     "output_type": "stream",
     "text": [
      "Downloading data from https://s3.amazonaws.com/img-datasets/mnist.npz\n",
      "60000 train samples\n",
      "10000 test samples\n"
     ]
    }
   ],
   "source": [
    "(X_train, y_train), (X_test, y_test) = mnist.load_data()\n",
    "\n",
    "n_train, height, width = X_train.shape\n",
    "n_test, _, _ = X_test.shape\n",
    "\n",
    "X_train = X_train.reshape(n_train, height, width, 1).astype('float32')\n",
    "X_test = X_test.reshape(n_test, height, width, 1).astype('float32')\n",
    "\n",
    "X_train /= 255.0\n",
    "X_test /= 255.0\n",
    "\n",
    "n_classes = 10\n",
    "\n",
    "print n_train, 'train samples'\n",
    "print n_test, 'test samples'\n",
    "\n",
    "# convert class vectors to binary class matrices\n",
    "Y_train = np_utils.to_categorical(y_train, n_classes)\n",
    "Y_test = np_utils.to_categorical(y_test, n_classes)"
   ]
  },
  {
   "cell_type": "markdown",
   "metadata": {},
   "source": [
    "Create the CNN and show its architecture"
   ]
  },
  {
   "cell_type": "code",
   "execution_count": 4,
   "metadata": {},
   "outputs": [
    {
     "name": "stdout",
     "output_type": "stream",
     "text": [
      "_________________________________________________________________\n",
      "Layer (type)                 Output Shape              Param #   \n",
      "=================================================================\n",
      "l0 (InputLayer)              (None, 28, 28, 1)         0         \n",
      "_________________________________________________________________\n",
      "l1 (Conv2D)                  (None, 28, 28, 9)         234       \n",
      "_________________________________________________________________\n",
      "l1_mp (MaxPooling2D)         (None, 14, 14, 9)         0         \n",
      "_________________________________________________________________\n",
      "l2 (Conv2D)                  (None, 14, 14, 9)         2034      \n",
      "_________________________________________________________________\n",
      "l2_mp (MaxPooling2D)         (None, 7, 7, 9)           0         \n",
      "_________________________________________________________________\n",
      "l3 (Conv2D)                  (None, 7, 7, 16)          1312      \n",
      "_________________________________________________________________\n",
      "l3_mp (MaxPooling2D)         (None, 3, 3, 16)          0         \n",
      "_________________________________________________________________\n",
      "flat (Flatten)               (None, 144)               0         \n",
      "_________________________________________________________________\n",
      "l4 (Dense)                   (None, 25)                3625      \n",
      "_________________________________________________________________\n",
      "l5 (Dense)                   (None, 10)                260       \n",
      "=================================================================\n",
      "Total params: 7,465.0\n",
      "Trainable params: 7,465.0\n",
      "Non-trainable params: 0.0\n",
      "_________________________________________________________________\n"
     ]
    },
    {
     "name": "stderr",
     "output_type": "stream",
     "text": [
      "/usr/local/lib/python2.7/dist-packages/ipykernel_launcher.py:3: UserWarning: Update your `Conv2D` call to the Keras 2 API: `Conv2D(9, (5, 5), padding=\"same\", activation=\"relu\", name=\"l1\")`\n",
      "  This is separate from the ipykernel package so we can avoid doing imports until\n",
      "/usr/local/lib/python2.7/dist-packages/ipykernel_launcher.py:6: UserWarning: Update your `Conv2D` call to the Keras 2 API: `Conv2D(9, (5, 5), padding=\"same\", activation=\"relu\", name=\"l2\")`\n",
      "  \n",
      "/usr/local/lib/python2.7/dist-packages/ipykernel_launcher.py:9: UserWarning: Update your `Conv2D` call to the Keras 2 API: `Conv2D(16, (3, 3), padding=\"same\", activation=\"relu\", name=\"l3\")`\n",
      "  if __name__ == '__main__':\n",
      "/usr/local/lib/python2.7/dist-packages/ipykernel_launcher.py:18: UserWarning: Update your `Model` call to the Keras 2 API: `Model(outputs=Tensor(\"l5..., inputs=Tensor(\"l0...)`\n"
     ]
    }
   ],
   "source": [
    "l0 = Input(shape=(height, width, 1), name='l0')\n",
    "\n",
    "l1 = Convolution2D(9, 5, 5, border_mode='same', activation='relu', name='l1')(l0)\n",
    "l1_mp = MaxPooling2D(pool_size=(2, 2), name='l1_mp')(l1)\n",
    "\n",
    "l2 = Convolution2D(9, 5, 5, border_mode='same', activation='relu', name='l2')(l1_mp)\n",
    "l2_mp = MaxPooling2D(pool_size=(2, 2), name='l2_mp')(l2)\n",
    "\n",
    "l3 = Convolution2D(16, 3, 3, border_mode='same', activation='relu', name='l3')(l2_mp)\n",
    "l3_mp = MaxPooling2D(pool_size=(2, 2), name='l3_mp')(l3)\n",
    "\n",
    "flat = Flatten(name='flat')(l3_mp)\n",
    "\n",
    "l4 = Dense(25, activation='relu', name='l4')(flat)\n",
    "\n",
    "l5 = Dense(n_classes, activation='softmax', name='l5')(l4)\n",
    "\n",
    "model = Model(input=l0, output=l5)\n",
    "model.summary()"
   ]
  },
  {
   "cell_type": "markdown",
   "metadata": {},
   "source": [
    "Define some constants and train de CNN"
   ]
  },
  {
   "cell_type": "code",
   "execution_count": 5,
   "metadata": {},
   "outputs": [
    {
     "name": "stderr",
     "output_type": "stream",
     "text": [
      "/usr/local/lib/python2.7/dist-packages/ipykernel_launcher.py:5: UserWarning: The `nb_epoch` argument in `fit` has been renamed `epochs`.\n",
      "  \"\"\"\n"
     ]
    },
    {
     "name": "stdout",
     "output_type": "stream",
     "text": [
      "Train on 60000 samples, validate on 10000 samples\n",
      "Epoch 1/10\n",
      "60000/60000 [==============================] - 18s - loss: 0.4558 - acc: 0.8634 - val_loss: 0.1529 - val_acc: 0.9536\n",
      "Epoch 2/10\n",
      "60000/60000 [==============================] - 17s - loss: 0.1435 - acc: 0.9553 - val_loss: 0.0844 - val_acc: 0.9731\n",
      "Epoch 3/10\n",
      "60000/60000 [==============================] - 17s - loss: 0.0975 - acc: 0.9693 - val_loss: 0.0741 - val_acc: 0.9775\n",
      "Epoch 4/10\n",
      "60000/60000 [==============================] - 18s - loss: 0.0761 - acc: 0.9755 - val_loss: 0.0611 - val_acc: 0.9800\n",
      "Epoch 5/10\n",
      "60000/60000 [==============================] - 17s - loss: 0.0622 - acc: 0.9801 - val_loss: 0.0491 - val_acc: 0.9826\n",
      "Epoch 6/10\n",
      "60000/60000 [==============================] - 17s - loss: 0.0539 - acc: 0.9829 - val_loss: 0.0527 - val_acc: 0.9835\n",
      "Epoch 7/10\n",
      "60000/60000 [==============================] - 17s - loss: 0.0475 - acc: 0.9847 - val_loss: 0.0599 - val_acc: 0.9802\n",
      "Epoch 8/10\n",
      "60000/60000 [==============================] - 17s - loss: 0.0429 - acc: 0.9857 - val_loss: 0.0386 - val_acc: 0.9875\n",
      "Epoch 9/10\n",
      "60000/60000 [==============================] - 17s - loss: 0.0386 - acc: 0.9877 - val_loss: 0.0391 - val_acc: 0.9876\n",
      "Epoch 10/10\n",
      "60000/60000 [==============================] - 17s - loss: 0.0350 - acc: 0.9890 - val_loss: 0.0389 - val_acc: 0.9856\n"
     ]
    }
   ],
   "source": [
    "batch_size = 128\n",
    "n_epoch = 10\n",
    "\n",
    "model.compile(loss='categorical_crossentropy', optimizer=RMSprop(), metrics=['accuracy'])\n",
    "history = model.fit(X_train, Y_train, batch_size=batch_size, nb_epoch=n_epoch, verbose=1, validation_data=(X_test, Y_test))"
   ]
  },
  {
   "cell_type": "markdown",
   "metadata": {},
   "source": [
    "Show the performance of the model"
   ]
  },
  {
   "cell_type": "code",
   "execution_count": 6,
   "metadata": {},
   "outputs": [
    {
     "name": "stdout",
     "output_type": "stream",
     "text": [
      "('Test score:', 0.038942086739675141)\n",
      "('Test accuracy:', 0.98560000000000003)\n"
     ]
    },
    {
     "data": {
      "image/png": "[encoded data removed]",
      "text/plain": [
       "<matplotlib.figure.Figure at 0x7ff25e2e7450>"
      ]
     },
     "metadata": {},
     "output_type": "display_data"
    }
   ],
   "source": [
    "pl.plot(history.history['loss'], label='Training')\n",
    "pl.plot(history.history['val_loss'], label='Testing')\n",
    "pl.legend()\n",
    "pl.grid()\n",
    "\n",
    "score = model.evaluate(X_test, Y_test, verbose=0)\n",
    "print('Test score:', score[0])\n",
    "print('Test accuracy:', score[1])"
   ]
  },
  {
   "cell_type": "code",
   "execution_count": 11,
   "metadata": {},
   "outputs": [
    {
     "name": "stdout",
     "output_type": "stream",
     "text": [
      "[[  4.27749956e-06   2.66322127e-06   2.79202923e-05 ...,   9.99919534e-01\n",
      "    5.86093108e-07   9.15040800e-07]\n",
      " [  1.20520717e-05   1.65783786e-05   9.99970317e-01 ...,   1.55178148e-09\n",
      "    3.27539382e-08   9.60002612e-14]\n",
      " [  2.94098868e-06   9.99838948e-01   4.83788153e-06 ...,   6.30009163e-05\n",
      "    5.29726412e-06   4.35550783e-06]\n",
      " ..., \n",
      " [  3.37244555e-13   1.68343681e-12   7.85412571e-15 ...,   1.01167108e-09\n",
      "    9.43649159e-09   1.71318568e-08]\n",
      " [  1.17406216e-06   1.38250271e-11   7.70954356e-10 ...,   3.86399870e-11\n",
      "    7.00745080e-03   2.99323837e-08]\n",
      " [  1.38583700e-05   1.89923766e-09   4.90647381e-06 ...,   3.89009002e-13\n",
      "    4.16610601e-05   2.92048288e-08]]\n"
     ]
    }
   ],
   "source": [
    "pred = model.predict_on_batch(X_test)\n",
    "print pred"
   ]
  },
  {
   "cell_type": "markdown",
   "metadata": {},
   "source": [
    "Confusion matrix"
   ]
  },
  {
   "cell_type": "code",
   "execution_count": 18,
   "metadata": {},
   "outputs": [
    {
     "data": {
      "text/plain": [
       "array([[ 970,    0,    3,    0,    0,    0,    3,    1,    3,    0],\n",
       "       [   0, 1121,    3,    2,    0,    1,    1,    4,    3,    0],\n",
       "       [   0,    0, 1021,    8,    0,    0,    0,    1,    2,    0],\n",
       "       [   0,    0,    1, 1006,    0,    1,    0,    0,    1,    1],\n",
       "       [   1,    0,    2,    0,  954,    0,    4,    2,    4,   15],\n",
       "       [   2,    0,    0,   15,    0,  867,    1,    0,    4,    3],\n",
       "       [   2,    3,    0,    0,    1,    4,  945,    0,    3,    0],\n",
       "       [   0,    1,    4,    4,    0,    0,    0, 1013,    1,    5],\n",
       "       [   0,    0,    3,    4,    0,    0,    0,    1,  962,    4],\n",
       "       [   1,    0,    0,    3,    3,    1,    0,    1,    3,  997]])"
      ]
     },
     "execution_count": 18,
     "metadata": {},
     "output_type": "execute_result"
    }
   ],
   "source": [
    "pred = model.predict_on_batch(X_test)\n",
    "pred = np.argmax(pred, axis=-1)\n",
    "me.confusion_matrix(y_test, pred)"
   ]
  }
 ],
 "metadata": {
  "kernelspec": {
   "display_name": "Python 2",
   "language": "python",
   "name": "python2"
  },
  "language_info": {
   "codemirror_mode": {
    "name": "ipython",
    "version": 2
   },
   "file_extension": ".py",
   "mimetype": "text/x-python",
   "name": "python",
   "nbconvert_exporter": "python",
   "pygments_lexer": "ipython2",
   "version": "2.7.13"
  }
 },
 "nbformat": 4,
 "nbformat_minor": 1
}
