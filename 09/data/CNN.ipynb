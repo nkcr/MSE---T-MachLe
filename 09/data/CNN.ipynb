{
 "cells": [
  {
   "cell_type": "markdown",
   "metadata": {},
   "source": [
    "# Convolutional Neural Networks\n",
    "This notebook will guide you through the use of the `keras` package to train convolutional neural networks for handwritten digits classification. You are going to use the `mnist` dataset from LeCun et al. 1998."
   ]
  },
  {
   "cell_type": "markdown",
   "metadata": {},
   "source": [
    "## Loading the packages"
   ]
  },
  {
   "cell_type": "code",
   "execution_count": 12,
   "metadata": {},
   "outputs": [],
   "source": [
    "import numpy as np\n",
    "from matplotlib import pyplot as pl\n",
    "\n",
    "from keras.datasets import mnist\n",
    "from keras.models import Model\n",
    "from keras.layers.core import Dense, Dropout, Flatten\n",
    "from keras.optimizers import RMSprop\n",
    "from keras.utils import np_utils\n",
    "from keras.layers.convolutional import Convolution2D, MaxPooling2D\n",
    "from keras.layers import Input\n",
    "from sklearn import metrics as me\n",
    "from scipy import stats\n",
    "\n",
    "%matplotlib inline"
   ]
  },
  {
   "cell_type": "markdown",
   "metadata": {},
   "source": [
    "First, create some useful functions"
   ]
  },
  {
   "cell_type": "code",
   "execution_count": 13,
   "metadata": {
    "collapsed": true
   },
   "outputs": [],
   "source": [
    "def build_grid_of_images(array):\n",
    "    assert len(array.shape) == 3\n",
    "    dim_0 = np.sqrt(array.shape[0])\n",
    "    assert dim_0.is_integer()\n",
    "    \n",
    "    temp_out = np.reshape(array, (dim_0, dim_0, array.shape[1], array.shape[2]))\n",
    "    temp_out = np.rollaxis(temp_out, 1, 3)\n",
    "    return np.reshape(temp_out, (dim_0*array.shape[1], dim_0*array.shape[2]))\n",
    "\n",
    "#a = np.array(np.arange(36))\n",
    "#print a\n",
    "\n",
    "#b = np.reshape(a, (4,3,3))\n",
    "#print b[0,:,:]\n",
    "#print b[1,:,:]\n",
    "\n",
    "#c = build_grid_of_images(b)\n",
    "#print c\n",
    "\n",
    "def plot_conv_layer_output(temp_out, title):\n",
    "    temp_to_plot = build_grid_of_images(temp_out)\n",
    "    pl.imshow(temp_to_plot, interpolation='nearest', cmap=pl.get_cmap('Greys'))\n",
    "    ax = pl.gca()\n",
    "    ax.set_xticks(np.arange(-0.5, temp_to_plot.shape[0]+0.5, temp_out.shape[1]))    \n",
    "    ax.set_yticks(np.arange(-0.5, temp_to_plot.shape[0]+0.5, temp_out.shape[2]))\n",
    "    pl.grid()\n",
    "    pl.tick_params(axis='both', which='both', bottom='off', top='off', left='off', right='off', labelbottom='off', labelleft='off')\n",
    "    pl.title(title)\n",
    "\n",
    "def plot_dense_layer_output(temp_out, title):\n",
    "    pl.bar(np.arange(temp_out.shape[1])-0.4, temp_out[0,:])\n",
    "    pl.xlim(-0.5, temp_out.shape[1])\n",
    "    pl.grid()\n",
    "    pl.title(title)"
   ]
  },
  {
   "cell_type": "markdown",
   "metadata": {},
   "source": [
    "Load the `mnist` dataset and normalize in the range [0, 1]"
   ]
  },
  {
   "cell_type": "code",
   "execution_count": 14,
   "metadata": {},
   "outputs": [
    {
     "name": "stdout",
     "output_type": "stream",
     "text": [
      "60000 train samples\n",
      "10000 test samples\n"
     ]
    }
   ],
   "source": [
    "(X_train, y_train), (X_test, y_test) = mnist.load_data()\n",
    "\n",
    "n_train, height, width = X_train.shape\n",
    "n_test, _, _ = X_test.shape\n",
    "\n",
    "X_train = X_train.reshape(n_train, height, width, 1).astype('float32')\n",
    "X_test = X_test.reshape(n_test, height, width, 1).astype('float32')\n",
    "\n",
    "X_train /= 255.0\n",
    "X_test /= 255.0\n",
    "\n",
    "n_classes = 10\n",
    "\n",
    "print n_train, 'train samples'\n",
    "print n_test, 'test samples'\n",
    "\n",
    "# convert class vectors to binary class matrices\n",
    "Y_train = np_utils.to_categorical(y_train, n_classes)\n",
    "Y_test = np_utils.to_categorical(y_test, n_classes)"
   ]
  },
  {
   "cell_type": "markdown",
   "metadata": {},
   "source": [
    "Create the CNN and show its architecture"
   ]
  },
  {
   "cell_type": "code",
   "execution_count": 15,
   "metadata": {},
   "outputs": [
    {
     "name": "stdout",
     "output_type": "stream",
     "text": [
      "_________________________________________________________________\n",
      "Layer (type)                 Output Shape              Param #   \n",
      "=================================================================\n",
      "l0 (InputLayer)              (None, 28, 28, 1)         0         \n",
      "_________________________________________________________________\n",
      "l1 (Conv2D)                  (None, 28, 28, 9)         234       \n",
      "_________________________________________________________________\n",
      "l1_mp (MaxPooling2D)         (None, 14, 14, 9)         0         \n",
      "_________________________________________________________________\n",
      "l2 (Conv2D)                  (None, 14, 14, 9)         2034      \n",
      "_________________________________________________________________\n",
      "l2_mp (MaxPooling2D)         (None, 7, 7, 9)           0         \n",
      "_________________________________________________________________\n",
      "l3 (Conv2D)                  (None, 7, 7, 16)          1312      \n",
      "_________________________________________________________________\n",
      "l3_mp (MaxPooling2D)         (None, 3, 3, 16)          0         \n",
      "_________________________________________________________________\n",
      "flat (Flatten)               (None, 144)               0         \n",
      "_________________________________________________________________\n",
      "l4 (Dense)                   (None, 25)                3625      \n",
      "_________________________________________________________________\n",
      "l5 (Dense)                   (None, 10)                260       \n",
      "=================================================================\n",
      "Total params: 7,465\n",
      "Trainable params: 7,465\n",
      "Non-trainable params: 0\n",
      "_________________________________________________________________\n"
     ]
    },
    {
     "name": "stderr",
     "output_type": "stream",
     "text": [
      "/Users/nkcr/anaconda/envs/python27/lib/python2.7/site-packages/ipykernel_launcher.py:3: UserWarning: Update your `Conv2D` call to the Keras 2 API: `Conv2D(9, (5, 5), padding=\"same\", activation=\"relu\", name=\"l1\")`\n",
      "  This is separate from the ipykernel package so we can avoid doing imports until\n",
      "/Users/nkcr/anaconda/envs/python27/lib/python2.7/site-packages/ipykernel_launcher.py:6: UserWarning: Update your `Conv2D` call to the Keras 2 API: `Conv2D(9, (5, 5), padding=\"same\", activation=\"relu\", name=\"l2\")`\n",
      "  \n",
      "/Users/nkcr/anaconda/envs/python27/lib/python2.7/site-packages/ipykernel_launcher.py:9: UserWarning: Update your `Conv2D` call to the Keras 2 API: `Conv2D(16, (3, 3), padding=\"same\", activation=\"relu\", name=\"l3\")`\n",
      "  if __name__ == '__main__':\n",
      "/Users/nkcr/anaconda/envs/python27/lib/python2.7/site-packages/ipykernel_launcher.py:18: UserWarning: Update your `Model` call to the Keras 2 API: `Model(outputs=Tensor(\"l5..., inputs=Tensor(\"l0...)`\n"
     ]
    }
   ],
   "source": [
    "l0 = Input(shape=(height, width, 1), name='l0')\n",
    "\n",
    "l1 = Convolution2D(9, 5, 5, border_mode='same', activation='relu', name='l1')(l0)\n",
    "l1_mp = MaxPooling2D(pool_size=(2, 2), name='l1_mp')(l1)\n",
    "\n",
    "l2 = Convolution2D(9, 5, 5, border_mode='same', activation='relu', name='l2')(l1_mp)\n",
    "l2_mp = MaxPooling2D(pool_size=(2, 2), name='l2_mp')(l2)\n",
    "\n",
    "l3 = Convolution2D(16, 3, 3, border_mode='same', activation='relu', name='l3')(l2_mp)\n",
    "l3_mp = MaxPooling2D(pool_size=(2, 2), name='l3_mp')(l3)\n",
    "\n",
    "flat = Flatten(name='flat')(l3_mp)\n",
    "\n",
    "l4 = Dense(25, activation='relu', name='l4')(flat)\n",
    "\n",
    "l5 = Dense(n_classes, activation='softmax', name='l5')(l4)\n",
    "\n",
    "model = Model(input=l0, output=l5)\n",
    "model.summary()"
   ]
  },
  {
   "cell_type": "markdown",
   "metadata": {},
   "source": [
    "Define some constants and train de CNN"
   ]
  },
  {
   "cell_type": "code",
   "execution_count": 16,
   "metadata": {},
   "outputs": [
    {
     "name": "stdout",
     "output_type": "stream",
     "text": [
      "(60000, 28, 28, 1)\n"
     ]
    }
   ],
   "source": [
    "batch_size = 128\n",
    "n_epoch = 10\n",
    "print(X_train.shape)\n",
    "#model.compile(loss='categorical_crossentropy', optimizer=RMSprop(), metrics=['accuracy'])\n",
    "#history = model.fit(X_train, Y_train, batch_size=batch_size, nb_epoch=n_epoch, verbose=1, validation_data=(X_test, Y_test))"
   ]
  },
  {
   "cell_type": "markdown",
   "metadata": {},
   "source": [
    "Show the performance of the model"
   ]
  },
  {
   "cell_type": "code",
   "execution_count": 6,
   "metadata": {},
   "outputs": [
    {
     "name": "stdout",
     "output_type": "stream",
     "text": [
      "('Test score:', 0.037023998715693597)\n",
      "('Test accuracy:', 0.98829999999999996)\n"
     ]
    },
    {
     "data": {
      "image/png": "[encoded data removed]",
      "text/plain": [
       "<matplotlib.figure.Figure at 0x12a2ff950>"
      ]
     },
     "metadata": {},
     "output_type": "display_data"
    }
   ],
   "source": [
    "pl.plot(history.history['loss'], label='Training')\n",
    "pl.plot(history.history['val_loss'], label='Testing')\n",
    "pl.legend()\n",
    "pl.grid()\n",
    "\n",
    "score = model.evaluate(X_test, Y_test, verbose=0)\n",
    "print('Test score:', score[0])\n",
    "print('Test accuracy:', score[1])"
   ]
  },
  {
   "cell_type": "code",
   "execution_count": 7,
   "metadata": {},
   "outputs": [
    {
     "name": "stdout",
     "output_type": "stream",
     "text": [
      "[[  4.65322329e-11   5.05278479e-07   4.25616633e-07 ...,   9.99998569e-01\n",
      "    3.14854781e-10   4.39529373e-07]\n",
      " [  1.04482993e-07   2.26100783e-05   9.99977231e-01 ...,   2.45051035e-10\n",
      "    9.55712398e-10   3.39862600e-12]\n",
      " [  3.55574389e-06   9.99911547e-01   1.46706327e-06 ...,   4.56761882e-05\n",
      "    4.88224487e-07   6.64256959e-07]\n",
      " ..., \n",
      " [  3.40821094e-13   9.53331192e-09   2.22152279e-11 ...,   5.58966606e-09\n",
      "    6.89949964e-09   2.07449602e-07]\n",
      " [  4.98370810e-06   2.86746604e-09   1.84408366e-09 ...,   1.73233788e-11\n",
      "    2.52967025e-03   9.45053600e-08]\n",
      " [  1.42036115e-05   3.31840710e-07   4.34176218e-06 ...,   3.62720742e-10\n",
      "    4.91684068e-06   5.00925466e-07]]\n"
     ]
    }
   ],
   "source": [
    "pred = model.predict_on_batch(X_test)\n",
    "print pred"
   ]
  },
  {
   "cell_type": "markdown",
   "metadata": {},
   "source": [
    "Confusion matrix"
   ]
  },
  {
   "cell_type": "code",
   "execution_count": 8,
   "metadata": {},
   "outputs": [
    {
     "data": {
      "text/plain": [
       "array([[ 977,    0,    1,    1,    0,    0,    1,    0,    0,    0],\n",
       "       [   0, 1132,    1,    0,    2,    0,    0,    0,    0,    0],\n",
       "       [   3,    8, 1014,    0,    0,    0,    0,    5,    1,    1],\n",
       "       [   0,    0,    0, 1000,    0,    3,    0,    4,    3,    0],\n",
       "       [   1,    0,    0,    0,  978,    0,    1,    0,    0,    2],\n",
       "       [   1,    0,    0,    7,    0,  878,    1,    1,    1,    3],\n",
       "       [   5,    5,    0,    0,    2,    3,  942,    0,    0,    1],\n",
       "       [   0,    2,    4,    0,    3,    0,    0, 1016,    1,    2],\n",
       "       [   3,    0,    1,    2,    0,    0,    1,    3,  960,    4],\n",
       "       [   3,    2,    0,    1,    9,    1,    0,    6,    1,  986]])"
      ]
     },
     "execution_count": 8,
     "metadata": {},
     "output_type": "execute_result"
    }
   ],
   "source": [
    "pred = model.predict_on_batch(X_test)\n",
    "pred = np.argmax(pred, axis=-1)\n",
    "me.confusion_matrix(y_test, pred)"
   ]
  }
 ],
 "metadata": {
  "kernelspec": {
   "display_name": "Python 2",
   "language": "python",
   "name": "python2"
  },
  "language_info": {
   "codemirror_mode": {
    "name": "ipython",
    "version": 2
   },
   "file_extension": ".py",
   "mimetype": "text/x-python",
   "name": "python",
   "nbconvert_exporter": "python",
   "pygments_lexer": "ipython2",
   "version": "2.7.13"
  }
 },
 "nbformat": 4,
 "nbformat_minor": 1
}
