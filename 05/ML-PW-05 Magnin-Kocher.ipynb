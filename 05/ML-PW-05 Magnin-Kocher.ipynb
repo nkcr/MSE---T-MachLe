{
 "cells": [
  {
   "cell_type": "markdown",
   "metadata": {
    "collapsed": true
   },
   "source": [
    "### MSE - T-MachLe\n",
    "# PW 05\n",
    "\n",
    "{dorian.magnin, noemien.kocher}@master.hes-so.ch\n",
    "\n",
    "## Exercice 1 Confusion Matrix"
   ]
  },
  {
   "cell_type": "code",
   "execution_count": 326,
   "metadata": {},
   "outputs": [
    {
     "name": "stdout",
     "output_type": "stream",
     "text": [
      "7.0\n"
     ]
    }
   ],
   "source": [
    "import pandas as pd\n",
    "import numpy as np\n",
    "import matplotlib.pyplot as plt\n",
    "%matplotlib inline\n",
    "from numpy.linalg import inv\n",
    "\n",
    "classes = ['p0','p1','p2','p3','p4','p5','p6','p7','p8','p9','y']\n",
    "\n",
    "dataset = pd.read_csv('data/ex1-system-a.csv', sep=';',\n",
    "                        dtype={'y': np.uint32},\n",
    "                        usecols=[0,1,2,3,4,5,6,7,8,9,10],\n",
    "                        header=-1, names=classes)\n",
    "\n",
    "N = len(dataset['p0'])\n",
    "N_features = 10\n",
    "\n",
    "print(dataset.loc[0:0].values[0][-1])"
   ]
  },
  {
   "cell_type": "markdown",
   "metadata": {},
   "source": [
    "### a) Write a function to take classification decisions on such outputs according to Bayes’rule."
   ]
  },
  {
   "cell_type": "code",
   "execution_count": 327,
   "metadata": {},
   "outputs": [],
   "source": [
    "test = [0,1,20,3]\n",
    "\n",
    "def classBayes(post_priors):\n",
    "    return np.argmax(post_priors)\n",
    "\n",
    "\n",
    "#print(classBayes(test))\n",
    "\n"
   ]
  },
  {
   "cell_type": "markdown",
   "metadata": {},
   "source": [
    "### b) What is the overall error rate of the system ?"
   ]
  },
  {
   "cell_type": "code",
   "execution_count": 331,
   "metadata": {
    "collapsed": false
   },
   "outputs": [
    {
     "name": "stdout",
     "output_type": "stream",
     "text": [
      "True guesses:  8927\nError rate:  0.1073\nPerformance:  0.8927\n"
     ]
    }
   ],
   "source": [
    "true_guess = 0\n",
    "\n",
    "for i in range(0, N):\n",
    "    row = dataset.loc[i:i].values[0] # get the row\n",
    "    guess = classBayes(row[0:-1])\n",
    "    if guess == row[-1]:\n",
    "        true_guess = true_guess + 1\n",
    "        \n",
    "print(\"True guesses: \", true_guess)\n",
    "print(\"Error rate: \", (N - true_guess)/N)\n",
    "print(\"Performance: \", true_guess/N)"
   ]
  },
  {
   "cell_type": "markdown",
   "metadata": {},
   "source": [
    "###  c) Compute and report the confusion matrix of the system."
   ]
  },
  {
   "cell_type": "code",
   "execution_count": 334,
   "metadata": {},
   "outputs": [
    {
     "name": "stdout",
     "output_type": "stream",
     "text": [
      "     p0    p1   p2   p3   p4   p5   p6   p7   p8   p9\np0  944     0   10    1    2   12   14    0   12   10\np1    0  1112    6    1    3    3    3   14   16    4\np2   11     2  921   31    6    6   21   30   18    6\np3    0     3   12  862    2   29    2    9   26   22\np4    0     1   15    2  910   19   22    7   24   53\np5    2     4    3   72    1  768   28    2   46   18\np6   10     3   19    5   12   19  865    1   22    0\np7    7     1   15   14    6    9    0  929   19   48\np8    5     9   26   12    4   21    3    3  772    4\np9    1     0    5   10   36    6    0   33   19  844\n"
     ]
    }
   ],
   "source": [
    "from collections import defaultdict\n",
    "cmatrix = defaultdict(lambda: [0] * N_features)\n",
    "\n",
    "\n",
    "for i in range(N):\n",
    "    row = dataset.loc[i:i].values[0] # get the row\n",
    "    guess = classBayes(row[0:-1])\n",
    "    yi = np.int(row[-1])\n",
    "    cmatrix[classes[yi]][guess] = cmatrix[classes[yi]][guess] + 1\n",
    "    \n",
    "\n",
    "print(pd.DataFrame(cmatrix, columns=classes[:-1], index=classes[:-1]))"
   ]
  },
  {
   "cell_type": "markdown",
   "metadata": {},
   "source": [
    "### d) What are the worst and best classes in terms of sensitivity (recall) ?"
   ]
  },
  {
   "cell_type": "code",
   "execution_count": 336,
   "metadata": {},
   "outputs": [
    {
     "name": "stdout",
     "output_type": "stream",
     "text": [
      "Sensitivity: "
     ]
    },
    {
     "name": "stdout",
     "output_type": "stream",
     "text": [
      "            0\np0  0.963265\np1  0.979736\np2  0.892442\np3  0.853465\np4  0.926680\np5  0.860987\np6  0.902923\np7  0.903696\np8  0.792608\np9  0.836472\nBest sensitivity:  p1\n\nRecall:             0\np0  0.939303\np1  0.956971\np2  0.875475\np3  0.891417\np4  0.864198\np5  0.813559\np6  0.904812\np7  0.886450\np8  0.898719\np9  0.884696\nBest recall:  p1\n"
     ]
    }
   ],
   "source": [
    "csensitivity = {}\n",
    "crecall = {}\n",
    "\n",
    "for i in range(N_features):\n",
    "    # le hit\n",
    "    TP = cmatrix[classes[i]][i]\n",
    "    # sommer la ligne\n",
    "    FN = sum(cmatrix[classes[j]][i] for j in range(N_features) ) - TP\n",
    "    # sommer la colonne\n",
    "    FP = sum(x for x in cmatrix[classes[i]]) - TP\n",
    "    \n",
    "    recall = TP / (TP + FN)\n",
    "    precision = TP / (TP + FP)\n",
    "    csensitivity[classes[i]] = precision\n",
    "    crecall[classes[i]] = recall\n",
    "    \n",
    "print(\"Sensitivity: \", pd.DataFrame(csensitivity, index=[0]).transpose())\n",
    "print(\"Best sensitivity: \", max(csensitivity, key=csensitivity.get))\n",
    "\n",
    "print(\"\")\n",
    "\n",
    "print(\"Recall: \", pd.DataFrame(crecall, index=[0]).transpose())\n",
    "print(\"Best recall: \", max(crecall, key=crecall.get))"
   ]
  },
  {
   "cell_type": "markdown",
   "metadata": {},
   "source": [
    "### e) In file `ex1-system-b.csv` you find the output of a second system B. What is the best system between (a) and (b) in terms of error rate and F1."
   ]
  },
  {
   "cell_type": "code",
   "execution_count": 350,
   "metadata": {},
   "outputs": [
    {
     "name": "stdout",
     "output_type": "stream",
     "text": [
      "True guesses2:  9613\nError rate2:  0.0387\nPerformance2:  0.9613\n"
     ]
    }
   ],
   "source": [
    "dataset2 = pd.read_csv('data/ex1-system-b.csv', sep=';',\n",
    "                        dtype={'y': np.uint32},\n",
    "                        usecols=[0,1,2,3,4,5,6,7,8,9,10],\n",
    "                        header=-1, names=classes)\n",
    "\n",
    "N2 = len(dataset2['p0'])\n",
    "\n",
    "true_guess = 0\n",
    "\n",
    "for i in range(0, N2):\n",
    "    row = dataset2.loc[i:i].values[0] # get the row\n",
    "    guess = classBayes(row[0:-1])\n",
    "    if guess == row[-1]:\n",
    "        true_guess = true_guess + 1\n",
    "        \n",
    "print(\"True guesses2: \", true_guess)\n",
    "print(\"Error rate2: \", (N2 - true_guess)/N2)\n",
    "print(\"Performance2: \", true_guess/N2)"
   ]
  },
  {
   "cell_type": "markdown",
   "metadata": {},
   "source": [
    "L'error rate est meilleurs avec ce dataset!"
   ]
  },
  {
   "cell_type": "code",
   "execution_count": 353,
   "metadata": {},
   "outputs": [
    {
     "name": "stdout",
     "output_type": "stream",
     "text": [
      "Sensitivity2:             0\np0  0.982653\np1  0.989427\np2  0.965116\np3  0.975248\np4  0.955193\np5  0.930493\np6  0.970772\np7  0.954280\np8  0.936345\np9  0.946482\nBest sensitivity2:  p1\n\nRecall2:             0\np0  0.969789\np1  0.984224\np2  0.950382\np3  0.924883\np4  0.968008\np5  0.971897\np6  0.955807\np7  0.967456\np8  0.963041\np9  0.958835\nBest recall2:  p1\n"
     ]
    }
   ],
   "source": [
    "cmatrix2 = defaultdict(lambda: [0] * N_features)\n",
    "\n",
    "\n",
    "for i in range(N2):\n",
    "    row = dataset2.loc[i:i].values[0] # get the row\n",
    "    guess = classBayes(row[0:-1])\n",
    "    yi = np.int(row[-1])\n",
    "    cmatrix2[classes[yi]][guess] = cmatrix2[classes[yi]][guess] + 1\n",
    "\n",
    "csensitivity2 = {}\n",
    "crecall2 = {}\n",
    "\n",
    "for i in range(N_features):\n",
    "    # le hit\n",
    "    TP = cmatrix2[classes[i]][i]\n",
    "    # sommer la ligne\n",
    "    FN = sum(cmatrix2[classes[j]][i] for j in range(N_features) ) - TP\n",
    "    # sommer la colonne\n",
    "    FP = sum(x for x in cmatrix2[classes[i]]) - TP\n",
    "    \n",
    "    recall = TP / (TP + FN)\n",
    "    precision = TP / (TP + FP)\n",
    "    csensitivity2[classes[i]] = precision\n",
    "    crecall2[classes[i]] = recall\n",
    "    \n",
    "print(\"Sensitivity2: \", pd.DataFrame(csensitivity2, index=[0]).transpose())\n",
    "print(\"Best sensitivity2: \", max(csensitivity2, key=csensitivity.get))\n",
    "\n",
    "print(\"\")\n",
    "\n",
    "print(\"Recall2: \", pd.DataFrame(crecall2, index=[0]).transpose())\n",
    "print(\"Best recall2: \", max(crecall2, key=crecall2.get))"
   ]
  },
  {
   "cell_type": "markdown",
   "metadata": {},
   "source": [
    "Je calcule le F1 de la meilleurs classification pour le dataset a et b et le compare:"
   ]
  },
  {
   "cell_type": "code",
   "execution_count": 165,
   "metadata": {},
   "outputs": [
    {
     "name": "stdout",
     "output_type": "stream",
     "text": [
      "F1a:  0.9682194166303876\nF1b:  0.9868189806678382\n"
     ]
    }
   ],
   "source": [
    "F1a = 2 * (csensitivity['p1']*crecall['p1']) / \\\n",
    "      (csensitivity['p1']+crecall['p1'])\n",
    "\n",
    "print(\"F1a: \", F1a)\n",
    "\n",
    "F1b = 2 * (csensitivity2['p1']*crecall2['p1']) / \\\n",
    "      (csensitivity2['p1']+crecall2['p1'])\n",
    "\n",
    "print(\"F1b: \", F1b)"
   ]
  },
  {
   "cell_type": "markdown",
   "metadata": {},
   "source": [
    "Le dataset b est donc bien meilleurs."
   ]
  },
  {
   "cell_type": "markdown",
   "metadata": {},
   "source": [
    "## Exercice 2 Classification system"
   ]
  },
  {
   "cell_type": "markdown",
   "metadata": {},
   "source": [
    "### a. Getting the training data"
   ]
  },
  {
   "cell_type": "code",
   "execution_count": 192,
   "metadata": {},
   "outputs": [],
   "source": [
    "dataset = pd.read_csv('data/ex2-data-train.csv', names=['x1', 'x2', 'y'])\n",
    "\n",
    "N = len(dataset['x1'])\n",
    "\n",
    "x1 = dataset['x1'].values\n",
    "x2 = dataset['x2'].values\n",
    "y = dataset['y'].values\n"
   ]
  },
  {
   "cell_type": "markdown",
   "metadata": {},
   "source": [
    "### b. Logistic regression classifier with linear decision boundary"
   ]
  },
  {
   "cell_type": "markdown",
   "metadata": {},
   "source": [
    "#### a) Implement a sigmoid function. Use numpy to compute the exp so that your function can take numpy arrays as input. Plot the sigmoid function."
   ]
  },
  {
   "cell_type": "code",
   "execution_count": 478,
   "metadata": {},
   "outputs": [
    {
     "data": {
      "image/png": "[encoded data removed]",
      "text/plain": [
       "<matplotlib.figure.Figure at 0x11362b320>"
      ]
     },
     "metadata": {},
     "output_type": "display_data"
    },
    {
     "name": "stdout",
     "output_type": "stream",
     "text": [
      "1.0\n"
     ]
    }
   ],
   "source": [
    "def sig(X):\n",
    "    return 1.0 / (1.0 + np.exp(-X))\n",
    "\n",
    "xs = np.linspace(-8, 8)\n",
    "\n",
    "plt.plot(xs, sig(xs))\n",
    "plt.title(\"Just a sigmoïde\")\n",
    "plt.show()\n",
    "\n",
    "print(sig(200))"
   ]
  },
  {
   "cell_type": "markdown",
   "metadata": {},
   "source": [
    "#### b) Implement the hypothesis function hθ(x)"
   ]
  },
  {
   "cell_type": "code",
   "execution_count": 531,
   "metadata": {},
   "outputs": [
    {
     "data": {
      "image/png": "[encoded data removed]",
      "text/plain": [
       "<matplotlib.figure.Figure at 0x113039630>"
      ]
     },
     "metadata": {},
     "output_type": "display_data"
    }
   ],
   "source": [
    "X = np.matrix( [np.ones(len(x1)), x1, x2] ).T\n",
    "\n",
    "thethas = [0, -1, 1]\n",
    "\n",
    "def h(Xn, thethas):\n",
    "    result = []\n",
    "    # Xn is like \n",
    "    # [ \n",
    "    #   [1 x10 x20], \n",
    "    #   [1 x11 x22] \n",
    "    # ]\n",
    "    # thethas is like: [thetha0, thetha1, thetha2]\n",
    "    return sig(np.matrix(Xn).dot(np.matrix(thethas).T))\n",
    "    \n",
    "\n",
    "plt.plot(np.arange(0, len(x1), 1), h(X, thethas))\n",
    "plt.show()"
   ]
  },
  {
   "cell_type": "markdown",
   "metadata": {},
   "source": [
    "#### c) Implement the objective function J(θ) :"
   ]
  },
  {
   "cell_type": "code",
   "execution_count": 641,
   "metadata": {},
   "outputs": [],
   "source": [
    "thethas = [1, 1, 1]\n",
    "\n",
    "def j(X, y, thethas):\n",
    "    \n",
    "    sum = 0\n",
    "    for i in range(len(X)):\n",
    "        sum = sum + y[i] * np.log(h(X[i], thethas).item(0)) + (1 - y[i]) * \\\n",
    "                                                  np.log(1 - h(X[i], thethas))\n",
    "    sum = sum * 1.0 / N\n",
    "    return sum.item(0)\n",
    "\n"
   ]
  },
  {
   "cell_type": "markdown",
   "metadata": {},
   "source": [
    "#### d) In a similar way as in PW02 and PW03, implement the gradient ascent with the update rule :"
   ]
  },
  {
   "cell_type": "code",
   "execution_count": 568,
   "metadata": {},
   "outputs": [
    {
     "name": "stdout",
     "output_type": "stream",
     "text": [
      "[0.99999500000000041, 0.99976484199182392, 0.99971816233712674]\n"
     ]
    }
   ],
   "source": [
    "N = len(x1)\n",
    "X = np.matrix( [np.ones(len(x1)), x1, x2] ).T\n",
    "\n",
    "thethas = [1, 1, 1]\n",
    "\n",
    "def updateThetha(thethas, X, y, alpha, thethai=-1):\n",
    "    thetharange = range(len(thethas))\n",
    "    if thethai != -1:\n",
    "        thetharange = [thethai]\n",
    "    # for each thetha\n",
    "    for l in thetharange:\n",
    "        sum = 0\n",
    "        # do the sum\n",
    "        for i in range(N):\n",
    "            sum = sum + (y[i] - h(X[i], thethas).item(0)) * X[i,l]\n",
    "        sum = sum * alpha * 1.0 / N\n",
    "        # update the thetha\n",
    "        thethas[l] = thethas[l] + sum\n",
    "        \n",
    "    return thethas\n",
    "\n",
    "for i in range(10):\n",
    "    thethas = updateThetha(thethas, X, y, 0.000001)\n",
    "\n",
    "print(thethas)"
   ]
  },
  {
   "cell_type": "markdown",
   "metadata": {},
   "source": [
    "#### e) Test your implementation by observing the evolution of the objective function `J(thetha)` during the gradient ascent"
   ]
  },
  {
   "cell_type": "code",
   "execution_count": 570,
   "metadata": {},
   "outputs": [
    {
     "data": {
      "image/png": "[encoded data removed]",
      "text/plain": [
       "<matplotlib.figure.Figure at 0x11367af28>"
      ]
     },
     "metadata": {},
     "output_type": "display_data"
    },
    {
     "data": {
      "image/png": "[encoded data removed]",
      "text/plain": [
       "<matplotlib.figure.Figure at 0x110c45160>"
      ]
     },
     "metadata": {},
     "output_type": "display_data"
    },
    {
     "name": "stdout",
     "output_type": "stream",
     "text": [
      "Théthas:  [-0.013844793527077574, 0.010812747166791963, -0.004720855010131351]\n"
     ]
    }
   ],
   "source": [
    "results = []\n",
    "steps = 50000\n",
    "\n",
    "thethas = [0, 0, 0]\n",
    "# après 15000\n",
    "thethas = [-0.0010939110746739354, 0.0087227663757557319, -0.0030173491474521884]\n",
    "# après 10000\n",
    "thethas = [-0.0018466122230984753, 0.0099659937736634435, -0.0040992829381749658]\n",
    "# après 10000\n",
    "thethas = [-0.002598695947319265, 0.010452841979434073, -0.0045155857644742633]\n",
    "# après 100'000\n",
    "thethas = [-0.010112392859010402, 0.010812747166791963, -0.004720855010131351]\n",
    "# À ce stade, je remarque que thetha0 ne converge pas encore. Je relance donc\n",
    "# juste pour thetha0\n",
    "# après 50000 juste pour thetha0\n",
    "thethas = [-0.013844793527077574, 0.010812747166791963, -0.004720855010131351]\n",
    "\n",
    "thethas0 = []\n",
    "thethas1 = []\n",
    "thethas2 = []\n",
    "\n",
    "for i in range(steps):\n",
    "    thethas = updateThetha(thethas, X, y, 0.000001, thethai=0)\n",
    "    results.append(j(X, y, thethas))\n",
    "    thethas0.append(thethas[0])\n",
    "    thethas1.append(thethas[1])\n",
    "    thethas2.append(thethas[2])\n",
    "    \n",
    "plt.plot(np.arange(0, steps, 1), results)\n",
    "plt.title('thetha function convergence')\n",
    "plt.show()\n",
    "\n",
    "xss = np.arange(0, len(thethas0), 1)\n",
    "plt.plot(xss, thethas0, label=\"thetha0\")\n",
    "plt.plot(xss, thethas1, label=\"thetha1\")\n",
    "plt.plot(xss, thethas2, label=\"thetha2\")\n",
    "plt.legend()\n",
    "plt.title(\"Thethas convergence\")\n",
    "plt.show()\n",
    "\n",
    "print(\"Théthas: \", thethas)"
   ]
  },
  {
   "cell_type": "markdown",
   "metadata": {},
   "source": [
    "#### f) Compute the correct classification rate on ex2-data-test.csv after convergence assu- ming you have an estimator of the posterior probabilities with \n",
    "\n",
    "`P(yn = 1|xn;θ) = hθ(xn)`  \n",
    "`P(yn =0|xn;θ)=1−hθ(xn)` "
   ]
  },
  {
   "cell_type": "code",
   "execution_count": 588,
   "metadata": {},
   "outputs": [
    {
     "name": "stdout",
     "output_type": "stream",
     "text": [
      "Performance:  0.6\nError rate:  0.4\n"
     ]
    }
   ],
   "source": [
    "dataset = pd.read_csv('data/ex2-data-test.csv', names=['x1', 'x2', 'y'])\n",
    "\n",
    "N = len(dataset['x1'])\n",
    "\n",
    "x1 = dataset['x1'].values\n",
    "x2 = dataset['x2'].values\n",
    "y = dataset['y'].values\n",
    "\n",
    "ones_x1 = [x1[i] for i in range(0, N) if y[i] == 1]\n",
    "ones_x2 = [x2[i] for i in range(0, N) if y[i] == 1]\n",
    "\n",
    "zero_x1 = [x1[i] for i in range(0, N) if y[i] == 0]\n",
    "zero_x2 = [x2[i] for i in range(0, N) if y[i] == 0]\n",
    "\n",
    "thethas = [-0.013844793527077574, 0.010812747166791963, -0.004720855010131351]\n",
    "N = len(x1)\n",
    "\n",
    "true_guess = 0\n",
    "for i in range(len(x1)):\n",
    "    prob1 = h([1, x1[i], x2[i]], thethas)\n",
    "    prob0 = 1 - prob1\n",
    "    guess = 1\n",
    "    if prob0 > prob1:\n",
    "        guess = 0\n",
    "    if y[i] == guess:\n",
    "        true_guess = true_guess + 1\n",
    "\n",
    "print(\"Performance: \", true_guess / N)\n",
    "print(\"Error rate: \", (N - true_guess) / N)"
   ]
  },
  {
   "cell_type": "markdown",
   "metadata": {},
   "source": [
    "#### g) Draw the decision boundary of your system on top of the scatter plot of the testing data."
   ]
  },
  {
   "cell_type": "code",
   "execution_count": 635,
   "metadata": {},
   "outputs": [
    {
     "data": {
      "image/png": "[encoded data removed]",
      "text/plain": [
       "<matplotlib.figure.Figure at 0x118c020f0>"
      ]
     },
     "metadata": {},
     "output_type": "display_data"
    },
    {
     "data": {
      "image/png": "[encoded data removed]",
      "text/plain": [
       "<matplotlib.figure.Figure at 0x118c394e0>"
      ]
     },
     "metadata": {},
     "output_type": "display_data"
    }
   ],
   "source": [
    "thethas = [-0.013844793527077574, 0.010812747166791963, -0.004720855010131351]\n",
    "\n",
    "# on a donc thetha0, thetha1, thetha2\n",
    "# notre droite est donc thetha2*x2 = -thetha1*x1 - thetha0\n",
    "\n",
    "def bound(x1):\n",
    "    return (-thethas[1]*x1 - thethas[0]) * 1.0 / thethas[2]\n",
    "\n",
    "plt.plot(np.linspace(0,100), bound(np.linspace(0,100)), label=\"best\")\n",
    "\n",
    "thethas = [-0.0018466122230984753, 0.0099659937736634435, -0.0040992829381749658]\n",
    "plt.plot(np.linspace(0,100), bound(np.linspace(0,100)), label=\"less good\")\n",
    "plt.scatter(ones_x1, ones_x2, marker=\"o\", label=\"pass\", color=\"green\")\n",
    "plt.scatter(zero_x1, zero_x2, marker=\"x\", label=\"fail\", color=\"red\")\n",
    "plt.xlabel('x1')\n",
    "plt.ylabel('x2')\n",
    "plt.legend()\n",
    "plt.title(\"A first try to plot boundary\")\n",
    "plt.show()\n",
    "\n",
    "square = 120\n",
    "\n",
    "x1s = np.arange(0, square, 1)\n",
    "x2s = np.arange(0, square, 1)\n",
    "\n",
    "onepx = []\n",
    "onepy = []\n",
    "zeropx = []\n",
    "zeropy = []\n",
    "\n",
    "for ix in range(0, square):\n",
    "    for iy in range(0, square):\n",
    "        prob1 = h( np.matrix([1, ix, iy]), thethas )\n",
    "        prob0 = 1 - prob1\n",
    "        guess = 1\n",
    "        if prob0 > prob1:\n",
    "            guess = 0\n",
    "        if guess == 1:\n",
    "            onepx.append(ix)\n",
    "            onepy.append(iy)\n",
    "        else:\n",
    "            zeropx.append(ix)\n",
    "            zeropy.append(iy)\n",
    "\n",
    "plt.scatter(onepx, onepy, label=\"guess 1\")\n",
    "plt.scatter(zeropx, zeropy, label=\"guess 0\")\n",
    "plt.scatter(ones_x1, ones_x2, marker=\"o\", label=\"pass\", color=\"green\")\n",
    "plt.scatter(zero_x1, zero_x2, marker=\"x\", label=\"fail\", color=\"red\")\n",
    "plt.xlabel('x1')\n",
    "plt.ylabel('x2')\n",
    "plt.legend()\n",
    "plt.title(\"A second try to plot boundary\")\n",
    "plt.show()"
   ]
  },
  {
   "cell_type": "markdown",
   "metadata": {},
   "source": [
    "The decision boundary is quite wrong. We suppose that either our process is wrong or we neeed mor iterations. The iteration process took a long time, about an hour!\n",
    "\n",
    "#### h) Compare the performance of the logistic regression system with the ones of previous’s week.\n",
    "\n",
    "Here we have a performance of 60%. In the other work, we had a performance of about 91%. But we think that more iterations would bring better results.\n",
    "### c. Logistic regression classifier with non-linear decision boundary\n",
    "\n",
    "Redo the experiments of 2.b by increasing the complexity of the model in order to have a non-linear decision boundary.\n"
   ]
  },
  {
   "cell_type": "code",
   "execution_count": 639,
   "metadata": {},
   "outputs": [
    {
     "data": {
      "image/png": "[encoded data removed]",
      "text/plain": [
       "<matplotlib.figure.Figure at 0x116c12eb8>"
      ]
     },
     "metadata": {},
     "output_type": "display_data"
    }
   ],
   "source": [
    "thethas = [0, 0, 0, 0, 0, 0]\n",
    "\n",
    "def h(Xn, thethas):\n",
    "    result = []\n",
    "    # Xn is like \n",
    "    # [ \n",
    "    #   [1 x10 x20 x10^2 x20^2 x10x20], \n",
    "    #   [1 x11 x21 x11^2 x21^2 x11x21], \n",
    "    # ]\n",
    "    # thethas is like: [thetha0, thetha1, thetha2, ... thetha5]\n",
    "    return sig(np.matrix(Xn).dot(np.matrix(thethas).T))\n",
    "\n",
    "def updateThetha(thethas, X, y, alpha, thethai=-1):\n",
    "    thetharange = range(len(thethas))\n",
    "    if thethai != -1:\n",
    "        thetharange = [thethai]\n",
    "    # for each thetha\n",
    "    for l in thetharange:\n",
    "        sum = 0\n",
    "        # do the sum\n",
    "        for i in range(N):\n",
    "            sum = sum + (y[i] - h(X[i], thethas).item(0)) * X[i,l]\n",
    "        sum = sum * alpha * 1.0 / N\n",
    "        # update the thetha\n",
    "        thethas[l] = thethas[l] + sum\n",
    "        \n",
    "    return thethas\n",
    "\n",
    "steps = 10000\n",
    "\n",
    "thethas = [0, 0, 0, 0, 0, 0]\n",
    "\n",
    "dataset = pd.read_csv('data/ex2-data-train.csv', names=['x1', 'x2', 'y'])\n",
    "\n",
    "N = len(dataset['x1'])\n",
    "\n",
    "x1 = dataset['x1'].values\n",
    "x2 = dataset['x2'].values\n",
    "y = dataset['y'].values\n",
    "\n",
    "X = np.matrix( [np.ones(len(x1)), x1, x2, x1*x1, x2*x2, x1*x2] ).T\n",
    "\n",
    "for i in range(steps):\n",
    "    thethas = updateThetha(thethas, X, y, 0.00001, thethai=0)\n",
    "    \n",
    "    \n",
    "# ------------- Plot\n",
    "square = 120\n",
    "\n",
    "x1s = np.arange(-square, square, 1)\n",
    "x2s = np.arange(-square, square, 1)\n",
    "\n",
    "onepx = []\n",
    "onepy = []\n",
    "zeropx = []\n",
    "zeropy = []\n",
    "\n",
    "for ix in range(-square, square):\n",
    "    for iy in range(-square, square):\n",
    "        prob1 = h( np.matrix([1, ix, iy, ix*ix, iy*iy, ix*iy]), thethas )\n",
    "        prob0 = 1 - prob1\n",
    "        guess = 1\n",
    "        if prob0 > prob1:\n",
    "            guess = 0\n",
    "        if guess == 1:\n",
    "            onepx.append(ix)\n",
    "            onepy.append(iy)\n",
    "        else:\n",
    "            zeropx.append(ix)\n",
    "            zeropy.append(iy)\n",
    "\n",
    "plt.scatter(onepx, onepy, label=\"guess 1\")\n",
    "plt.scatter(zeropx, zeropy, label=\"guess 0\")\n",
    "plt.scatter(ones_x1, ones_x2, marker=\"o\", label=\"pass\", color=\"green\")\n",
    "plt.scatter(zero_x1, zero_x2, marker=\"x\", label=\"fail\", color=\"red\")\n",
    "plt.xlabel('x1')\n",
    "plt.ylabel('x2')\n",
    "plt.legend()\n",
    "plt.title(\"A second try to plot boundary\")\n",
    "plt.show()"
   ]
  },
  {
   "cell_type": "markdown",
   "metadata": {},
   "source": [
    "Our more complex model is not better!"
   ]
  },
  {
   "cell_type": "code",
   "execution_count": null,
   "metadata": {},
   "outputs": [],
   "source": []
  }
 ],
 "metadata": {
  "kernelspec": {
   "display_name": "Python 2",
   "language": "python",
   "name": "python2"
  },
  "language_info": {
   "codemirror_mode": {
    "name": "ipython",
    "version": 2
   },
   "file_extension": ".py",
   "mimetype": "text/x-python",
   "name": "python",
   "nbconvert_exporter": "python",
   "pygments_lexer": "ipython2",
   "version": "2.7.6"
  }
 },
 "nbformat": 4,
 "nbformat_minor": 0
}
